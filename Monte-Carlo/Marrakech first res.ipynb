{
 "cells": [
  {
   "cell_type": "markdown",
   "metadata": {
    "id": "8bn1ZkTWIuCH"
   },
   "source": [
    "# Marrakech MCTS\n",
    "\n",
    "Notebook pour les expériences.\n",
    "\n",
    "Liens :\n",
    "\n",
    "- Modélisation : https://github.com/sor8sh/Marrakech/blob/main/main.py\n",
    "- Idee diff de MCTS : https://github.com/IraSkyx/marrakech-ai\n",
    "- https://github.com/bubka42/marrakech\n",
    "- MCTS for stochastic games : https://www.lamsade.dauphine.fr/~cazenave/papers/mctrsg.pdf\n"
   ]
  },
  {
   "cell_type": "markdown",
   "metadata": {
    "colab": {
     "base_uri": "https://localhost:8080/"
    },
    "id": "vgqfqCWEIrZG",
    "outputId": "a5f1ba0c-11eb-4334-810e-9ef6f456b427"
   },
   "source": [
    "!git clone https://github.com/elise-chin/marrakech-mcts.git\n",
    "\n",
    "%cd marrakech-mcts\n",
    "\n",
    "%mkdir src "
   ]
  },
  {
   "cell_type": "markdown",
   "metadata": {},
   "source": [
    "# Implémentation du jeu\n",
    "\n",
    "--> A mettre dans un fichier .py a part puis importer ici"
   ]
  },
  {
   "cell_type": "code",
   "execution_count": 4,
   "metadata": {
    "id": "mHWAIJvPppM9"
   },
   "outputs": [],
   "source": [
    "from pickle import NEWOBJ_EX\n",
    "import numpy as np\n",
    "import matplotlib.pyplot as plt\n",
    "from matplotlib import colors\n",
    "from itertools import cycle, count\n",
    "import random \n",
    "import copy\n",
    "from tqdm import tqdm\n",
    "import math\n",
    "import time\n",
    "\n",
    "###########################\n",
    "# --- GLOBAL VARIABLES ---\n",
    "###########################\n",
    "\n",
    "BOARD_SIZE=5\n",
    "N_RUGS=8\n",
    "MIDDLE=2\n",
    "DICE=[1,2,2,3]\n",
    "\n",
    "# Colors of the rugs\n",
    "RED = 1 #player 1\n",
    "BLUE = 2 #player 2\n",
    "PINK = 3 #player 1\n",
    "GREEN = 4 #player 2\n",
    "\n",
    "colors = [RED, BLUE, PINK, GREEN]\n",
    "color_cycle = cycle(colors)\n",
    "#next(color_cycle) gives the next color to play\n",
    "\n",
    "# Counters for each color to increment when instanciating new Rug, starts at 1\n",
    "red_counter = count(1)\n",
    "blue_counter = count(1)\n",
    "pink_counter = count(1)\n",
    "green_counter = count(1)\n",
    "\n",
    "# Orientations of the pawn\n",
    "NORTH = (0, 1)\n",
    "SOUTH = (0, -1)\n",
    "EAST = (1, 0)\n",
    "WEST = (-1, 0)\n",
    "\n",
    "orientations_int2str = {NORTH: \"north\", SOUTH: \"south\", EAST: \"east\", WEST: \"west\"}\n",
    "colors_int2str = {RED: \"red\", BLUE: \"blue\", PINK: \"pink\", GREEN: \"green\"}\n",
    "\n",
    "# U turns (demi tour) of the pawn\n",
    "u_turn = {\n",
    "    NORTH: SOUTH,\n",
    "    SOUTH: NORTH,\n",
    "    EAST: WEST,\n",
    "    WEST: EAST,\n",
    "}\n",
    "\n",
    "####################\n",
    "# --- FUNCTIONS ---\n",
    "####################\n",
    "\n",
    "def adjacent_coord(coord):\n",
    "    \"\"\"Returns all squares' coordinates (x', y') adjacent to square of coordinate `coord` (x, y)\n",
    "\n",
    "    Args:\n",
    "        coord (tuple of int): coordinate (x,y) of the square of interest\n",
    "\n",
    "    Returns:\n",
    "        list of tuples: list of adjacent positions\n",
    "    \"\"\"\n",
    "    x, y = coord\n",
    "    answer = []\n",
    "    if -1 < x - 1 < BOARD_SIZE:\n",
    "        answer.append((x - 1, y))\n",
    "    if -1 < x + 1 < BOARD_SIZE:\n",
    "        answer.append((x + 1, y))\n",
    "    if -1 < y - 1 < BOARD_SIZE:\n",
    "        answer.append((x, y - 1))\n",
    "    if -1 < y + 1 < BOARD_SIZE:\n",
    "        answer.append((x, y + 1))\n",
    "    return answer\n",
    "\n",
    "def next_color(color):\n",
    "  next = ''\n",
    "  if color == RED:\n",
    "    next = BLUE\n",
    "  elif color == BLUE:\n",
    "    next = PINK\n",
    "  elif color == PINK:\n",
    "    next = GREEN\n",
    "  elif color == GREEN:\n",
    "    next = RED\n",
    "  \n",
    "  if next == '':\n",
    "    print('The color is incorrect')\n",
    "\n",
    "  return next\n",
    "  \n",
    "'''\n",
    "def adjacent_coord(coord):\n",
    "    \"\"\"Returns all squares' coordinates (x', y') adjacent to square of coordinate `coord` (x, y)\n",
    "\n",
    "    Args:\n",
    "        coord (tuple of int): coordinate (x,y) of the square of interest\n",
    "\n",
    "    Returns:\n",
    "        list of tuples: list of adjacent positions\n",
    "    \"\"\"\n",
    "    x, y = coord\n",
    "    left = (x-1, y)\n",
    "    right = (x+1, y)\n",
    "    up = (x, y+1)\n",
    "    down = (x, y-1)\n",
    "    L = [left, right, up, down]\n",
    "\n",
    "    if x == 0:\n",
    "        L.remove(left)\n",
    "    if y == 0:\n",
    "        L.remove(down)\n",
    "    if x == 6:\n",
    "        L.remove(right)\n",
    "    if y == 6:\n",
    "        L.remove(up)\n",
    "\n",
    "    return L\n",
    "'''\n",
    "\n",
    "##################\n",
    "# --- CLASSES ---\n",
    "##################\n",
    "\n",
    "class Position(object):\n",
    "    def __init__(self, x, y):\n",
    "        self.x = x\n",
    "        self.y = y\n",
    "\n",
    "    def __str__(self):\n",
    "        return f'({self.x},{self.y})'\n",
    "\n",
    "    def get_coord(self):\n",
    "        return self.x, self.y\n",
    "\n",
    "    def is_out_of_board(self, board_limit):\n",
    "        \"\"\"Check if the position of coordinates (x,y) is outside the board.\n",
    "        \n",
    "        Args:\n",
    "            board_limit (int): board limit in terms of indices \n",
    "                               (e.g. if board is of size 7, then board_limit = 6)\n",
    "        \"\"\"\n",
    "\n",
    "        if self.x < 0 or self.x > board_limit or self.y < 0 or self.y > board_limit:\n",
    "            return True\n",
    "        return False\n",
    "\n",
    "\n",
    "class Rug(object):\n",
    "\n",
    "    def __init__(self, color, sq1_pos, sq2_pos, incr=False):\n",
    "        self.color = color\n",
    "        self.sq1_pos = Position(sq1_pos[0], sq1_pos[1]) \n",
    "        self.sq2_pos = Position(sq2_pos[0], sq2_pos[1])\n",
    "        if incr:\n",
    "            self.id = self.increment_id()\n",
    "        else:\n",
    "            self.id = 0\n",
    "\n",
    "    def __str__(self):\n",
    "        return f\"Rug {colors_int2str[self.color]} of id {self.id} at position ({self.sq1_pos}, {self.sq2_pos}).\"\n",
    "\n",
    "    def increment_id(self):\n",
    "        if self.color == RED:\n",
    "            return next(red_counter)\n",
    "        if self.color == BLUE:\n",
    "            return next(blue_counter)\n",
    "        if self.color == PINK:\n",
    "            return next(pink_counter)\n",
    "        if self.color == GREEN:\n",
    "            return next(green_counter)\n",
    "\n",
    "    def create_real(self, incr=True):\n",
    "        rug_copy = Rug(self.color, self.sq1_pos.get_coord(), self.sq2_pos.get_coord(), incr)\n",
    "        return rug_copy\n",
    "\n",
    "class Pawn(object):\n",
    "    def __init__(self):\n",
    "        # The pawn start at the center of the board\n",
    "        self.position = Position(MIDDLE, MIDDLE)\n",
    "        self.orientation = NORTH\n",
    "\n",
    "    def __str__(self):\n",
    "        result = f'({self.position}, {orientations_int2str[self.orientation]})'\n",
    "        return result\n",
    "    \n",
    "    def set_position(self, x, y):\n",
    "        self.position.x = x\n",
    "        self.position.y = y\n",
    "\n",
    "    def set_orientation(self, orientation):\n",
    "        self.orientation = orientation\n",
    "\n",
    "    def legal_orientations(self):\n",
    "        # The pawn cannot make a u turn\n",
    "        orientations = [NORTH, SOUTH, EAST, WEST]\n",
    "        orientations.remove(u_turn[self.orientation])\n",
    "        return orientations\n",
    "\n",
    "    def legal_move(self, new_orientation, dice):\n",
    "\n",
    "        #   Case 1: pawn does not go out from the board\n",
    "        legal_x = self.position.x + new_orientation[0] * dice\n",
    "        legal_y = self.position.y + new_orientation[1] * dice\n",
    "        legal_position = Position(legal_x, legal_y)\n",
    "\n",
    "        #   Case 2: pawn goes out from the board (implementation brute-force)\n",
    "        if legal_position.is_out_of_board(board_limit=(BOARD_SIZE-1)): \n",
    "            # Count the number of steps left after moving out of the board\n",
    "            # Place the pawn at the limit of the board\n",
    "            if new_orientation == NORTH:\n",
    "                steps_left = legal_y - (BOARD_SIZE-1)\n",
    "                legal_y = (BOARD_SIZE-1)\n",
    "            elif new_orientation == EAST:\n",
    "                steps_left = legal_x - (BOARD_SIZE-1)\n",
    "                legal_x = (BOARD_SIZE-1)\n",
    "            elif new_orientation == SOUTH:\n",
    "                steps_left = -legal_y\n",
    "                legal_y = 0\n",
    "            elif new_orientation == WEST:\n",
    "                steps_left = -legal_x\n",
    "                legal_x = 0\n",
    "\n",
    "            # Place the pawn after it has moved out from the board \n",
    "            # It counts as a step\n",
    "            new_orientation, legal_x, legal_y = self.get_move_in_board(new_orientation, legal_x, legal_y)\n",
    "            steps_left = steps_left - 1\n",
    "            \n",
    "            # Move the pawn according to the number of steps left\n",
    "            legal_x = legal_x + new_orientation[0] * steps_left\n",
    "            legal_y = legal_y + new_orientation[1] * steps_left\n",
    "        \n",
    "        return new_orientation, legal_x, legal_y\n",
    "\n",
    "    def get_move_in_board(self, orientation, x, y):\n",
    "        \"\"\"Get the new orientation and coordinates (new_x, new_y) of the pawn after moving out of the board.\"\"\"\n",
    "        # Bottom left corner (0,0)\n",
    "        #to read again by mathilde\n",
    "        if (x, y) == (0,0) and orientation == SOUTH:\n",
    "            orientation = EAST\n",
    "        elif (x, y) == (0,0) and orientation == WEST:\n",
    "            orientation = NORTH\n",
    "        # Top right corner (6,6)\n",
    "        elif (x, y) == ((BOARD_SIZE-1),(BOARD_SIZE-1)) and orientation == EAST:\n",
    "            orientation = SOUTH\n",
    "        elif (x, y) == ((BOARD_SIZE-1),(BOARD_SIZE-1)) and orientation == NORTH:\n",
    "            orientation = WEST\n",
    "        # Bottom side (y = 0)\n",
    "        elif orientation == SOUTH:\n",
    "            x = x + 1 if x % 2 == 1 else x - 1\n",
    "            orientation = NORTH\n",
    "        # Right side (x = 6)\n",
    "        elif orientation == EAST:\n",
    "            y = y + 1 if y % 2 == 0 else y - 1\n",
    "            orientation = WEST\n",
    "        # Top side (y = 6)\n",
    "        elif orientation == NORTH:\n",
    "            x = x + 1 if x % 2 == 0 else x - 1\n",
    "            orientation = SOUTH\n",
    "        # Left side (x = 0)\n",
    "        elif orientation == WEST:\n",
    "            y = y + 1 if y % 2 == 1 else y - 1\n",
    "            orientation = EAST\n",
    "        return orientation, x, y\n",
    "\n",
    "    def move(self, new_orientation, new_x, new_y):\n",
    "        self.set_orientation(new_orientation)\n",
    "        self.set_position(new_x, new_y)\n",
    "\n",
    "    def get_nb_same_color_squares(self, board):\n",
    "        \"\"\"Compute the number of adjacents squares of the same color\n",
    "        as the square's color on which the pawn is\"\"\"\n",
    "        counter = 1 # Init to 1 because the initial square counts\n",
    "        pawn_x, pawn_y = self.position.get_coord()\n",
    "        pawn_color = board.get_color(pawn_x, pawn_y)\n",
    "\n",
    "        coords_to_check = adjacent_coord((pawn_x, pawn_y))\n",
    "        visited_coords = set((pawn_x, pawn_y))\n",
    "        while coords_to_check:\n",
    "            x, y = coords_to_check.pop(0)\n",
    "            visited_coords.add((x, y))\n",
    "            color = board.get_color(x, y)\n",
    "            if color == pawn_color:\n",
    "                counter += 1\n",
    "                adj_coords = adjacent_coord((x,y))\n",
    "                # Only append to coords_to_check not visited coords yet and of same color as the pawn\n",
    "                for coord in adj_coords:\n",
    "                    if coord not in visited_coords:\n",
    "                        coords_to_check.append(coord)\n",
    "        return counter\n",
    "\n",
    "  \n",
    "class Player(object):\n",
    "    def __init__(self, id, colors):\n",
    "        self.id = id\n",
    "        self.colors = colors\n",
    "        self.rugs_left = 2*N_RUGS\n",
    "        self.coins = 30\n",
    "    \n",
    "    def pay(self, amount, opponent_player):\n",
    "        #I think that we should just focus on the 2 players game\n",
    "        #If the player doesn't have enough money\n",
    "        if self.coins - amount < 0:\n",
    "            opponent_player.coins += self.coins\n",
    "            self.coins = 0\n",
    "        #If the player can pay\n",
    "        else:\n",
    "            self.coins -= amount\n",
    "            opponent_player.coins += amount\n",
    "\n",
    "    def score(self, board):\n",
    "        # Sum of coins and the number of squares of the player's colors\n",
    "        s = self.coins\n",
    "        for x in range(board.size):\n",
    "            for y in range(board.size):\n",
    "                if board.board[x,y][0] in self.colors:\n",
    "                    s += 1\n",
    "        return s\n",
    "  \n",
    "class Move(object):\n",
    "    def __init__(self, pawn, new_orientation, new_x, new_y, rug, dice):\n",
    "        self.pawn = pawn\n",
    "        self.new_orientation = new_orientation\n",
    "        self.new_x = new_x\n",
    "        self.new_y = new_y\n",
    "        self.rug = rug\n",
    "        self.dice = dice\n",
    "        \n",
    "    def __str__(self):\n",
    "        \n",
    "        if self.pawn.orientation == self.new_orientation:\n",
    "            assam = f'The pawn stays in his orientation ({orientations_int2str[self.pawn.orientation]}).\\n'\n",
    "        else:\n",
    "            assam = f'The pawn is reoriented from {orientations_int2str[self.pawn.orientation]} to {orientations_int2str[self.new_orientation]}.\\n'\n",
    "        assam_move = f'Assam is moving from {self.pawn.position.__str__()} to ({self.new_x},{self.new_y}).\\n'\n",
    "        tapis = f\"A rug of color {colors_int2str[self.rug.color]} (id={self.rug.id}) is placed at ({self.rug.sq1_pos}, {self.rug.sq2_pos}).\"\n",
    "        result = assam + assam_move + tapis\n",
    "        return result\n",
    "        \n",
    "        #result = f'({orientations_int2str[self.new_orientation]}, ({self.new_x, self.new_y}), {self.rug})'\n",
    "        #return result \n",
    "\n",
    "    def is_pawn_new_orientation_valid(self):\n",
    "        # It is valid if no u-turn\n",
    "        return self.new_orientation in self.pawn.legal_orientations()\n",
    "\n",
    "    def is_pawn_new_position_valid(self):\n",
    "        \n",
    "        return True\n",
    "\n",
    "    def is_rug_adjacent_to_pawn(self):\n",
    "        # Check if adjacent to pawn and also not on the pawn's position\n",
    "\n",
    "        # List of all valid coordinates around the pawn\n",
    "        x, y = self.new_x, self.new_y\n",
    "        init_valid_coord = adjacent_coord((x, y))\n",
    "        valid_coord = init_valid_coord.copy()\n",
    "        for coord in init_valid_coord:\n",
    "            valid_coord.extend(adjacent_coord(coord))\n",
    "        set_valid_coord = set(valid_coord)\n",
    "        set_valid_coord.remove((x, y))\n",
    "\n",
    "        # Check if the rug's both squares are in the set\n",
    "        if self.rug.sq1_pos.get_coord() and self.rug.sq2_pos.get_coord() in set_valid_coord:\n",
    "            return True\n",
    "        return False\n",
    "\n",
    "    def is_rug_covering_another_rug(self, board):\n",
    "        # Rug's new placement is valid if it doesn't cover another rug\n",
    "        # We need to check if the both squares are covered by the same rug (same color and same id)\n",
    "        sq1_color_and_id = board.board[self.rug.sq1_pos.x, self.rug.sq1_pos.y]\n",
    "        sq2_color_and_id = board.board[self.rug.sq2_pos.x, self.rug.sq2_pos.y]\n",
    "        if not np.array_equal(sq1_color_and_id, np.zeros(2)) and np.array_equal(sq1_color_and_id, sq2_color_and_id):\n",
    "            return True\n",
    "        return False\n",
    "\n",
    "    def valid(self, board):\n",
    "        #print(self.is_pawn_new_orientation_valid(), self.is_pawn_new_position_valid(), self.is_rug_adjacent_to_pawn(), self.is_rug_covering_another_rug(board)) \n",
    "        if not self.is_pawn_new_orientation_valid():\n",
    "            return False\n",
    "        elif not self.is_pawn_new_position_valid():\n",
    "            return False\n",
    "        elif not self.is_rug_adjacent_to_pawn():\n",
    "            return False\n",
    "        elif self.is_rug_covering_another_rug(board):\n",
    "            return False\n",
    "        return True\n",
    "\n",
    "class Board(object):\n",
    "    def __init__(self, size=BOARD_SIZE, verbose=False):\n",
    "        self.size = size\n",
    "        self.board = np.zeros((size, size, 2))\n",
    "        self.pawn = Pawn() # Initialize at (3,3)\n",
    "        self.players = [Player(0, [RED, PINK]), Player(1, [BLUE, GREEN])]\n",
    "        self.current_player = self.players[0]\n",
    "        self.current_color = RED # Start with first color of first player\n",
    "        self.verbose=verbose\n",
    "        self.nb_turns = 1\n",
    "\n",
    "        self.cycle_players = cycle(self.players)\n",
    "        \n",
    "    def __str__(self):\n",
    "        #print(self.board)\n",
    "        pass\n",
    "\n",
    "    def throw_dice(self):\n",
    "        dice = DICE\n",
    "        return random.choice(dice)\n",
    "\n",
    "    def get_color(self, x, y):\n",
    "        \"\"\"Get the color of the square (x,y)\"\"\"\n",
    "        return self.board[x,y][0]\n",
    "\n",
    "    def get_number(self, x, y):\n",
    "        \"\"\"Get the number of the square (x,y)\"\"\"\n",
    "        return self.board[x,y][1]\n",
    "\n",
    "    def legal_moves(self, dice):\n",
    "        \"\"\"Get list of legal moves among 4x49x12 possible moves.\n",
    "\n",
    "        - Orientation (4, including 3 valid)\n",
    "        - Pawn movement (49, including 1 valid according to the orientation and dice's result)\n",
    "        - Rug placement (12, including ? according to the pawn and other rugs' position)\n",
    "\n",
    "        \"\"\"\n",
    "        moves = [] # List of all possible valid moves\n",
    "\n",
    "        # For every orientation\n",
    "        for orientation in [NORTH, SOUTH, EAST, WEST]:\n",
    "            #we check where the pawn should end\n",
    "            _, x, y = self.pawn.legal_move(orientation, dice)\n",
    "            # For every square around the pawn\n",
    "            for sq1_coord in adjacent_coord((x, y)):\n",
    "                # For every square around those squares\n",
    "                for sq2_coord in adjacent_coord(sq1_coord):\n",
    "                    rug_notreal = Rug(self.current_color, sq1_coord, sq2_coord)\n",
    "                    m = Move(self.pawn, orientation, x, y, rug_notreal, dice)\n",
    "                    # Check if the move is legal\n",
    "                    \n",
    "                    if m.valid(self):\n",
    "                        # If yes, add to moves\n",
    "                        \n",
    "                        moves.append(m)\n",
    "        return moves\n",
    "\n",
    "    def score(self):\n",
    "        # We can think the score as player1's score - player2's score\n",
    "        # Such that if it's positive, player 1 wins, if negative player 2 wins \n",
    "        player1_score = self.players[0].score(self)\n",
    "        player2_score = self.players[1].score(self)\n",
    "        return player1_score - player2_score\n",
    "\n",
    "    def terminal(self):\n",
    "        total = 0\n",
    "        for player in self.players:\n",
    "            total += player.rugs_left\n",
    "        if total == 0:\n",
    "            return True\n",
    "        return False\n",
    "\n",
    "    def play(self, move):\n",
    "        \n",
    "        move.rug = move.rug.create_real()\n",
    "        if self.verbose:\n",
    "          print(move.__str__())\n",
    "\n",
    "        # 1. Orientate and move the pawn\n",
    "        self.pawn.move(move.new_orientation, move.new_x, move.new_y)\n",
    "\n",
    "        # 2. Place a rug\n",
    "        self.board[move.rug.sq1_pos.x, move.rug.sq1_pos.y] = np.array([move.rug.color, move.rug.id])\n",
    "        self.board[move.rug.sq2_pos.x, move.rug.sq2_pos.y] = np.array([move.rug.color, move.rug.id])\n",
    "        self.current_player.rugs_left -= 1\n",
    "\n",
    "        # 3. Pay opponent\n",
    "        # Pay only if the pawn is on an opponent color\n",
    "        current_square_color = self.get_color(self.pawn.position.x, self.pawn.position.y)\n",
    "        opponent_player_id = abs(self.current_player.id - 1)\n",
    "        if self.verbose:\n",
    "            if current_square_color:\n",
    "                print(f'The players ends on a {colors_int2str[current_square_color]} rug.')\n",
    "            else:\n",
    "                print(f'The player ends on an empty case.')\n",
    "        #very important : the player only have to pay if he is on an opponent rug ! not if it is an empty case !\n",
    "        if current_square_color:\n",
    "            if current_square_color not in self.current_player.colors:\n",
    "                amount = self.pawn.get_nb_same_color_squares(self)\n",
    "                if self.verbose:\n",
    "                    print(f'This rug belongs to player {self.players[opponent_player_id].id}.')\n",
    "                    print(f'The current player has to give him {amount} coins.')\n",
    "                self.current_player.pay(amount, self.players[opponent_player_id])\n",
    "            else:\n",
    "                if self.verbose:\n",
    "                    print(\"The rug is his so he doesn't have to pay.\")\n",
    "        if self.verbose:\n",
    "            print(f'Player {self.players[0].id} has {self.players[0].coins} coins. Player {self.players[1].id} has {self.players[1].coins}.')\n",
    "          \n",
    "        # Change turn\n",
    "        self.current_player = self.players[opponent_player_id]\n",
    "        #self.current_payer = next(self.cycle_players)\n",
    "        self.current_color = next_color(self.current_color)\n",
    "\n",
    "    def playout(self):\n",
    "        \"\"\"Play a random game from the current state.\n",
    "        Returns the result of the random game.\"\"\"\n",
    "\n",
    "        while(True):\n",
    "            # Throw the dice for the current player\n",
    "            dice_result = self.throw_dice()\n",
    "            #We get all the legal moves for this dice result\n",
    "            moves = self.legal_moves(dice=dice_result)\n",
    "            # If the game is over\n",
    "            if self.terminal():\n",
    "                # Victory for player 1\n",
    "                if self.score() < 0:\n",
    "                    if self.verbose:\n",
    "                        print(\"Player 1 wins !!!\")\n",
    "                    return -1\n",
    "                # Victory for player 0\n",
    "                elif self.score() > 0:\n",
    "                    if self.verbose:\n",
    "                        print(\"Player 0 wins !!!\")\n",
    "                    return 1\n",
    "                # Draw\n",
    "                else:\n",
    "                    if self.verbose:\n",
    "                        print(\"Draw...\")\n",
    "                    return 0\n",
    "            \n",
    "            if self.verbose:\n",
    "              print(f'{self.nb_turns}.')\n",
    "              print(f'Player {self.current_player.id} throws the dice. The result is {dice_result}.')\n",
    "\n",
    "            # The game isn't over: rugs are remaining\n",
    "            # We play another move chosen randomly\n",
    "            n = random.randint(0, len(moves)-1)\n",
    "            self.play(moves[n])\n",
    "            self.nb_turns+=1\n",
    "            if self.verbose:\n",
    "                print('\\n')"
   ]
  },
  {
   "cell_type": "markdown",
   "metadata": {},
   "source": [
    "# Implémentations des algorithmes\n",
    "\n",
    "On peut aussi mettre dans un fichier .py et importer ?"
   ]
  },
  {
   "cell_type": "markdown",
   "metadata": {},
   "source": [
    "### Aléatoire"
   ]
  },
  {
   "cell_type": "code",
   "execution_count": 5,
   "metadata": {},
   "outputs": [],
   "source": [
    "def rand_strat(board, n_playouts):\n",
    "    dice_result = board.throw_dice()\n",
    "    moves = board.legal_moves(dice_result)\n",
    "    n = random.randint(0, len(moves)-1)\n",
    "    return moves[n]"
   ]
  },
  {
   "cell_type": "markdown",
   "metadata": {},
   "source": [
    "### Flat\n",
    "\n",
    "    TO DO :\n",
    "    - optimiser \n",
    "    - rendre plus propre et pus perso"
   ]
  },
  {
   "cell_type": "code",
   "execution_count": 7,
   "metadata": {
    "id": "LNfV30C2xQEJ"
   },
   "outputs": [],
   "source": [
    "def flat(board, n):\n",
    "    \"\"\"\n",
    "    For each move of the current state, \n",
    "    compute the number of playouts that have been won.\n",
    "    \n",
    "    Args:\n",
    "        n (int): Number of playouts.\n",
    "    \"\"\"\n",
    "    dice_result = board.throw_dice()\n",
    "    moves = board.legal_moves(dice_result)\n",
    "    #Just to know which player we are\n",
    "    current_player=board.current_player.id\n",
    "    bestScore = 0\n",
    "    bestMove = 0\n",
    "    for m in (range(len(moves))):\n",
    "        sum = 0\n",
    "        for i in (range(n)):\n",
    "            b = copy.deepcopy(board)\n",
    "            #b.verbose=False\n",
    "            b.play(moves[m])\n",
    "            r = b.playout() # Result of the random game from moves[m]\n",
    "            # player 0 wins : 1, player 1 wins : -1\n",
    "            if current_player == 0:\n",
    "                if r == 1:\n",
    "                    sum+=1\n",
    "            if current_player == 1:\n",
    "                if r == -1:\n",
    "                    sum+=1\n",
    "        if sum > bestScore:\n",
    "            bestScore = sum\n",
    "            bestMove = m\n",
    "    return moves[bestMove]"
   ]
  },
  {
   "cell_type": "markdown",
   "metadata": {},
   "source": [
    "### UCB\n",
    "\n",
    "    TO DO :\n",
    "    - optimiser \n",
    "    - rendre plus propre et pus perso\n"
   ]
  },
  {
   "cell_type": "code",
   "execution_count": 9,
   "metadata": {},
   "outputs": [],
   "source": [
    "def UCB(board, n, c=0.4):\n",
    "    dice_result = board.throw_dice()\n",
    "    moves = board.legal_moves(dice_result)\n",
    "    sumScores = [0.0 for x in range(len(moves))]\n",
    "    nbVisits = [0 for x in range(len(moves))]\n",
    "    current_player=board.current_player.id\n",
    "    for i in range(n):\n",
    "        bestScore = 0\n",
    "        bestMove = 0\n",
    "        for m in range(len(moves)):\n",
    "            score = 1000000\n",
    "            if nbVisits[m] > 0:\n",
    "                 score = sumScores[m] / nbVisits[m] + c * math.sqrt(math.log(i) / nbVisits[m])\n",
    "            if score > bestScore:\n",
    "                bestScore = score\n",
    "                bestMove = m\n",
    "        b = copy.deepcopy(board)\n",
    "        b.play(moves[bestMove])\n",
    "        r = b.playout()\n",
    "        if current_player == 0:\n",
    "            #if I am player 0, I need a 1 to win\n",
    "            if r == 1:\n",
    "                sumScores[bestMove] += 1\n",
    "        if current_player == 1:\n",
    "            #if I am player 1 I need a -1 to win\n",
    "            if r == -1:\n",
    "                sumScores[bestMove] += 1\n",
    "\n",
    "        nbVisits[bestMove] += 1\n",
    "        \n",
    "    bestScore = 0\n",
    "    bestMove = 0\n",
    "\n",
    "    # Get the most visited move\n",
    "    for m in range(len(moves)):\n",
    "        score = nbVisits[m]\n",
    "        if score > bestScore:\n",
    "            bestScore = score\n",
    "            bestMove = m\n",
    "    return moves[bestMove]"
   ]
  },
  {
   "cell_type": "markdown",
   "metadata": {},
   "source": [
    "### AMAF"
   ]
  },
  {
   "cell_type": "markdown",
   "metadata": {},
   "source": [
    "### RAVE"
   ]
  },
  {
   "cell_type": "markdown",
   "metadata": {},
   "source": [
    "### GRAVE"
   ]
  },
  {
   "cell_type": "markdown",
   "metadata": {},
   "source": [
    "### SEQUENTIAL HALVING ?"
   ]
  },
  {
   "cell_type": "markdown",
   "metadata": {},
   "source": [
    "### SHUSS ?"
   ]
  },
  {
   "cell_type": "markdown",
   "metadata": {},
   "source": [
    "### PUCT ?"
   ]
  },
  {
   "cell_type": "markdown",
   "metadata": {},
   "source": [
    "# Expériences"
   ]
  },
  {
   "cell_type": "markdown",
   "metadata": {},
   "source": [
    "## Fonction pour lancer une partie"
   ]
  },
  {
   "cell_type": "code",
   "execution_count": 10,
   "metadata": {},
   "outputs": [],
   "source": [
    "def play_game(n_games, strategy1, strategy2, n_playouts=None, n_ucb=None):\n",
    "    \"\"\"Returns win rate for player 0\"\"\"\n",
    "    n_wins1 = 0\n",
    "    n_wins2 = 0\n",
    "    draw = 0\n",
    "    s = 0\n",
    "    for i in tqdm(range(n_games)):\n",
    "        game = Board(verbose=False)\n",
    "        i=1\n",
    "        while(not game.terminal()):\n",
    "            #print(f'Tour {i}')\n",
    "            i+=1\n",
    "            current_player=game.current_player.id\n",
    "            if current_player == 0:\n",
    "                if n_ucb != 0:\n",
    "                    best_move = strategy1(game, n_ucb)\n",
    "                best_move = strategy1(game, n_playouts)\n",
    "            if current_player == 1:\n",
    "                best_move = strategy2(game, n_playouts)\n",
    "            game.play(best_move)\n",
    "        score = game.score()\n",
    "        #print(f'score = {score}')\n",
    "        if score > 0: #victory for player 0\n",
    "            n_wins1 += 1\n",
    "        elif score < 0:\n",
    "            n_wins2 +=1\n",
    "        elif score == 0:\n",
    "            draw +=1\n",
    "        s += score\n",
    "    print(f'Winrate of player 0 : {n_wins1/n_games}')\n",
    "    print(f'Winrate of player 1 : {n_wins2/n_games}')\n",
    "    print(f'Number of draw : {draw}')\n",
    "    print(f'Mean score : {s/n_games}')\n",
    "    \n",
    "    return n_wins1/n_games, n_wins2/n_games, draw, s/n_games"
   ]
  },
  {
   "cell_type": "code",
   "execution_count": 10,
   "metadata": {},
   "outputs": [],
   "source": [
    "start = time.time()"
   ]
  },
  {
   "cell_type": "markdown",
   "metadata": {},
   "source": [
    "## Aléatoire VS Aléatoire\n",
    "\n",
    "TO DO : \n",
    "    - faire une fonction propre\n",
    "    - "
   ]
  },
  {
   "cell_type": "code",
   "execution_count": 8,
   "metadata": {
    "scrolled": true
   },
   "outputs": [
    {
     "name": "stderr",
     "output_type": "stream",
     "text": [
      "100%|███████████████████████████████████████| 2000/2000 [00:38<00:00, 51.97it/s]"
     ]
    },
    {
     "name": "stdout",
     "output_type": "stream",
     "text": [
      "Winrate of player 0 : 0.555\n",
      "Winrate of player 1 : 0.4355\n",
      "Mean score : 3.4645\n"
     ]
    },
    {
     "name": "stderr",
     "output_type": "stream",
     "text": [
      "\n"
     ]
    }
   ],
   "source": [
    "play_game(n_games=2000, strategy1=rand_strat, strategy2=rand_strat)"
   ]
  },
  {
   "cell_type": "markdown",
   "metadata": {},
   "source": [
    "## Flat VS Aléatoire"
   ]
  },
  {
   "cell_type": "markdown",
   "metadata": {},
   "source": [
    "1 simulation de n parties va prendre \n",
    "\n",
    "n x 16 tours x 20 (~ legal moves/tour) x m playouts\n",
    "\n",
    "Pour n = 100 parties\n",
    "et m = 1000 playouts\n",
    "\n",
    "ça fait 32 000 000 parties\n",
    "\n",
    "et encore je compte pas le joueur aléatoire ...\n",
    "\n",
    "\n",
    "Pour n = 10 parties\n",
    "et m = 100 playouts\n",
    "\n",
    "ça fait 320 000 parties"
   ]
  },
  {
   "cell_type": "markdown",
   "metadata": {},
   "source": [
    "10 000 parties en taille 5x5 ça prend : 2min14\n",
    "\n",
    "en taille 7x7 ça prend : 3min50"
   ]
  },
  {
   "cell_type": "code",
   "execution_count": 11,
   "metadata": {
    "id": "fPcVjMbOP-Ns"
   },
   "outputs": [
    {
     "name": "stdout",
     "output_type": "stream",
     "text": [
      "#### Results for 1 playouts. Flat VS Random. ####\n"
     ]
    },
    {
     "name": "stderr",
     "output_type": "stream",
     "text": [
      "100%|█████████████████████████████████████████| 100/100 [03:36<00:00,  2.16s/it]\n"
     ]
    },
    {
     "name": "stdout",
     "output_type": "stream",
     "text": [
      "Winrate of player 0 : 0.75\n",
      "Winrate of player 1 : 0.23\n",
      "Mean score : 12.14\n",
      "#### Results for 2 playouts. Flat VS Random. ####\n"
     ]
    },
    {
     "name": "stderr",
     "output_type": "stream",
     "text": [
      "100%|█████████████████████████████████████████| 100/100 [07:04<00:00,  4.25s/it]\n"
     ]
    },
    {
     "name": "stdout",
     "output_type": "stream",
     "text": [
      "Winrate of player 0 : 0.91\n",
      "Winrate of player 1 : 0.07\n",
      "Mean score : 20.46\n",
      "#### Results for 5 playouts. Flat VS Random. ####\n"
     ]
    },
    {
     "name": "stderr",
     "output_type": "stream",
     "text": [
      "100%|█████████████████████████████████████████| 100/100 [17:46<00:00, 10.66s/it]\n"
     ]
    },
    {
     "name": "stdout",
     "output_type": "stream",
     "text": [
      "Winrate of player 0 : 0.97\n",
      "Winrate of player 1 : 0.03\n",
      "Mean score : 27.91\n",
      "#### Results for 10 playouts. Flat VS Random. ####\n"
     ]
    },
    {
     "name": "stderr",
     "output_type": "stream",
     "text": [
      "100%|█████████████████████████████████████████| 100/100 [35:41<00:00, 21.41s/it]"
     ]
    },
    {
     "name": "stdout",
     "output_type": "stream",
     "text": [
      "Winrate of player 0 : 0.98\n",
      "Winrate of player 1 : 0.01\n",
      "Mean score : 27.39\n"
     ]
    },
    {
     "name": "stderr",
     "output_type": "stream",
     "text": [
      "\n"
     ]
    }
   ],
   "source": [
    "#41:10 pour n_games = 100 et n_playouts = 10 pour un plateau 5x5\n",
    "\n",
    "for n in [1,2,5,10]:\n",
    "    print(f'#### Results for {n} playouts. Flat VS Random. ####')\n",
    "    play_game(n_games=100, n_playouts=n, strategy1=flat, strategy2=rand_strat)"
   ]
  },
  {
   "cell_type": "markdown",
   "metadata": {},
   "source": [
    "## UCB VS Aléatoire"
   ]
  },
  {
   "cell_type": "code",
   "execution_count": 12,
   "metadata": {},
   "outputs": [
    {
     "name": "stdout",
     "output_type": "stream",
     "text": [
      "#### Results for 1 playouts. UCB VS Random. ####\n"
     ]
    },
    {
     "name": "stderr",
     "output_type": "stream",
     "text": [
      "100%|█████████████████████████████████████████| 100/100 [00:12<00:00,  8.27it/s]\n"
     ]
    },
    {
     "name": "stdout",
     "output_type": "stream",
     "text": [
      "Winrate of player 0 : 0.36\n",
      "Winrate of player 1 : 0.64\n",
      "Mean score : -9.81\n",
      "#### Results for 2 playouts. UCB VS Random. ####\n"
     ]
    },
    {
     "name": "stderr",
     "output_type": "stream",
     "text": [
      "100%|█████████████████████████████████████████| 100/100 [00:22<00:00,  4.37it/s]\n"
     ]
    },
    {
     "name": "stdout",
     "output_type": "stream",
     "text": [
      "Winrate of player 0 : 0.41\n",
      "Winrate of player 1 : 0.56\n",
      "Mean score : -6.01\n",
      "#### Results for 5 playouts. UCB VS Random. ####\n"
     ]
    },
    {
     "name": "stderr",
     "output_type": "stream",
     "text": [
      "100%|█████████████████████████████████████████| 100/100 [00:53<00:00,  1.88it/s]\n"
     ]
    },
    {
     "name": "stdout",
     "output_type": "stream",
     "text": [
      "Winrate of player 0 : 0.45\n",
      "Winrate of player 1 : 0.54\n",
      "Mean score : -2.59\n",
      "#### Results for 10 playouts. UCB VS Random. ####\n"
     ]
    },
    {
     "name": "stderr",
     "output_type": "stream",
     "text": [
      "100%|█████████████████████████████████████████| 100/100 [01:48<00:00,  1.09s/it]\n"
     ]
    },
    {
     "name": "stdout",
     "output_type": "stream",
     "text": [
      "Winrate of player 0 : 0.46\n",
      "Winrate of player 1 : 0.53\n",
      "Mean score : -4.66\n",
      "#### Results for 50 playouts. UCB VS Random. ####\n"
     ]
    },
    {
     "name": "stderr",
     "output_type": "stream",
     "text": [
      "100%|█████████████████████████████████████████| 100/100 [09:06<00:00,  5.46s/it]\n"
     ]
    },
    {
     "name": "stdout",
     "output_type": "stream",
     "text": [
      "Winrate of player 0 : 0.98\n",
      "Winrate of player 1 : 0.02\n",
      "Mean score : 25.66\n",
      "#### Results for 100 playouts. UCB VS Random. ####\n"
     ]
    },
    {
     "name": "stderr",
     "output_type": "stream",
     "text": [
      "100%|█████████████████████████████████████████| 100/100 [17:55<00:00, 10.76s/it]"
     ]
    },
    {
     "name": "stdout",
     "output_type": "stream",
     "text": [
      "Winrate of player 0 : 0.98\n",
      "Winrate of player 1 : 0.02\n",
      "Mean score : 29.89\n"
     ]
    },
    {
     "name": "stderr",
     "output_type": "stream",
     "text": [
      "\n"
     ]
    }
   ],
   "source": [
    "for n in [1,2,5,10,50,100]:\n",
    "    print(f'#### Results for {n} playouts. UCB VS Random. ####')\n",
    "    play_game(n_games=100, n_playouts=n, strategy1=UCB, strategy2=rand_strat)"
   ]
  },
  {
   "cell_type": "markdown",
   "metadata": {},
   "source": [
    "## UCB VS FLAT"
   ]
  },
  {
   "cell_type": "code",
   "execution_count": 13,
   "metadata": {},
   "outputs": [
    {
     "name": "stdout",
     "output_type": "stream",
     "text": [
      "#### Results for 1 playouts for flat and 50 for UCB. UCB VS Flat. ####\n"
     ]
    },
    {
     "name": "stderr",
     "output_type": "stream",
     "text": [
      "100%|█████████████████████████████████████████| 100/100 [12:26<00:00,  7.47s/it]\n"
     ]
    },
    {
     "name": "stdout",
     "output_type": "stream",
     "text": [
      "Winrate of player 0 : 0.09\n",
      "Winrate of player 1 : 0.9\n",
      "Mean score : -27.59\n",
      "#### Results for 1 playouts for flat and 100 for UCB. UCB VS Flat. ####\n"
     ]
    },
    {
     "name": "stderr",
     "output_type": "stream",
     "text": [
      "100%|█████████████████████████████████████████| 100/100 [21:14<00:00, 12.75s/it]\n"
     ]
    },
    {
     "name": "stdout",
     "output_type": "stream",
     "text": [
      "Winrate of player 0 : 0.01\n",
      "Winrate of player 1 : 0.99\n",
      "Mean score : -33.65\n",
      "#### Results for 1 playouts for flat and 200 for UCB. UCB VS Flat. ####\n"
     ]
    },
    {
     "name": "stderr",
     "output_type": "stream",
     "text": [
      "100%|█████████████████████████████████████████| 100/100 [38:57<00:00, 23.38s/it]\n"
     ]
    },
    {
     "name": "stdout",
     "output_type": "stream",
     "text": [
      "Winrate of player 0 : 0.06\n",
      "Winrate of player 1 : 0.94\n",
      "Mean score : -27.7\n",
      "#### Results for 2 playouts for flat and 50 for UCB. UCB VS Flat. ####\n"
     ]
    },
    {
     "name": "stderr",
     "output_type": "stream",
     "text": [
      "100%|█████████████████████████████████████████| 100/100 [15:45<00:00,  9.46s/it]\n"
     ]
    },
    {
     "name": "stdout",
     "output_type": "stream",
     "text": [
      "Winrate of player 0 : 0.01\n",
      "Winrate of player 1 : 0.99\n",
      "Mean score : -37.14\n",
      "#### Results for 2 playouts for flat and 100 for UCB. UCB VS Flat. ####\n"
     ]
    },
    {
     "name": "stderr",
     "output_type": "stream",
     "text": [
      "100%|█████████████████████████████████████████| 100/100 [24:31<00:00, 14.71s/it]\n"
     ]
    },
    {
     "name": "stdout",
     "output_type": "stream",
     "text": [
      "Winrate of player 0 : 0.04\n",
      "Winrate of player 1 : 0.96\n",
      "Mean score : -35.38\n",
      "#### Results for 2 playouts for flat and 200 for UCB. UCB VS Flat. ####\n"
     ]
    },
    {
     "name": "stderr",
     "output_type": "stream",
     "text": [
      "100%|█████████████████████████████████████████| 100/100 [42:21<00:00, 25.41s/it]\n"
     ]
    },
    {
     "name": "stdout",
     "output_type": "stream",
     "text": [
      "Winrate of player 0 : 0.03\n",
      "Winrate of player 1 : 0.97\n",
      "Mean score : -41.01\n",
      "#### Results for 5 playouts for flat and 50 for UCB. UCB VS Flat. ####\n"
     ]
    },
    {
     "name": "stderr",
     "output_type": "stream",
     "text": [
      "100%|█████████████████████████████████████████| 100/100 [25:21<00:00, 15.21s/it]\n"
     ]
    },
    {
     "name": "stdout",
     "output_type": "stream",
     "text": [
      "Winrate of player 0 : 0.01\n",
      "Winrate of player 1 : 0.99\n",
      "Mean score : -41.35\n",
      "#### Results for 5 playouts for flat and 100 for UCB. UCB VS Flat. ####\n"
     ]
    },
    {
     "name": "stderr",
     "output_type": "stream",
     "text": [
      "100%|█████████████████████████████████████████| 100/100 [33:59<00:00, 20.39s/it]\n"
     ]
    },
    {
     "name": "stdout",
     "output_type": "stream",
     "text": [
      "Winrate of player 0 : 0.0\n",
      "Winrate of player 1 : 1.0\n",
      "Mean score : -40.87\n",
      "#### Results for 5 playouts for flat and 200 for UCB. UCB VS Flat. ####\n"
     ]
    },
    {
     "name": "stderr",
     "output_type": "stream",
     "text": [
      "100%|█████████████████████████████████████████| 100/100 [51:29<00:00, 30.90s/it]\n"
     ]
    },
    {
     "name": "stdout",
     "output_type": "stream",
     "text": [
      "Winrate of player 0 : 0.02\n",
      "Winrate of player 1 : 0.98\n",
      "Mean score : -37.84\n",
      "#### Results for 10 playouts for flat and 50 for UCB. UCB VS Flat. ####\n"
     ]
    },
    {
     "name": "stderr",
     "output_type": "stream",
     "text": [
      "100%|█████████████████████████████████████████| 100/100 [42:18<00:00, 25.39s/it]\n"
     ]
    },
    {
     "name": "stdout",
     "output_type": "stream",
     "text": [
      "Winrate of player 0 : 0.0\n",
      "Winrate of player 1 : 1.0\n",
      "Mean score : -44.93\n",
      "#### Results for 10 playouts for flat and 100 for UCB. UCB VS Flat. ####\n"
     ]
    },
    {
     "name": "stderr",
     "output_type": "stream",
     "text": [
      "100%|█████████████████████████████████████████| 100/100 [50:39<00:00, 30.40s/it]\n"
     ]
    },
    {
     "name": "stdout",
     "output_type": "stream",
     "text": [
      "Winrate of player 0 : 0.0\n",
      "Winrate of player 1 : 1.0\n",
      "Mean score : -46.67\n",
      "#### Results for 10 playouts for flat and 200 for UCB. UCB VS Flat. ####\n"
     ]
    },
    {
     "name": "stderr",
     "output_type": "stream",
     "text": [
      "100%|███████████████████████████████████████| 100/100 [1:08:19<00:00, 41.00s/it]"
     ]
    },
    {
     "name": "stdout",
     "output_type": "stream",
     "text": [
      "Winrate of player 0 : 0.01\n",
      "Winrate of player 1 : 0.99\n",
      "Mean score : -46.54\n"
     ]
    },
    {
     "name": "stderr",
     "output_type": "stream",
     "text": [
      "\n"
     ]
    }
   ],
   "source": [
    "for n in [1,2,5,10]:\n",
    "    for n_ucb in [50,100,200]:\n",
    "        print(f'#### Results for {n} playouts for flat and {n_ucb} for UCB. UCB VS Flat. ####')\n",
    "        play_game(n_games=100, n_playouts=n, strategy1=UCB, strategy2=flat, n_ucb=n_ucb)"
   ]
  },
  {
   "cell_type": "code",
   "execution_count": null,
   "metadata": {},
   "outputs": [],
   "source": []
  },
  {
   "cell_type": "code",
   "execution_count": 14,
   "metadata": {},
   "outputs": [
    {
     "name": "stdout",
     "output_type": "stream",
     "text": [
      "Time: 31312.87400984764\n"
     ]
    }
   ],
   "source": [
    "print(f'Time: {time.time() - start}')"
   ]
  },
  {
   "cell_type": "code",
   "execution_count": null,
   "metadata": {},
   "outputs": [],
   "source": []
  },
  {
   "cell_type": "code",
   "execution_count": null,
   "metadata": {},
   "outputs": [],
   "source": []
  },
  {
   "cell_type": "code",
   "execution_count": null,
   "metadata": {},
   "outputs": [],
   "source": []
  }
 ],
 "metadata": {
  "colab": {
   "collapsed_sections": [],
   "name": "Marrakech MCTS.ipynb",
   "provenance": []
  },
  "kernelspec": {
   "display_name": "Python 3 (ipykernel)",
   "language": "python",
   "name": "python3"
  },
  "language_info": {
   "codemirror_mode": {
    "name": "ipython",
    "version": 3
   },
   "file_extension": ".py",
   "mimetype": "text/x-python",
   "name": "python",
   "nbconvert_exporter": "python",
   "pygments_lexer": "ipython3",
   "version": "3.8.8"
  }
 },
 "nbformat": 4,
 "nbformat_minor": 1
}
