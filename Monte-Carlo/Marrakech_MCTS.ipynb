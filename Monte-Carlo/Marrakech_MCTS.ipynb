{
 "cells": [
  {
   "cell_type": "markdown",
   "metadata": {
    "id": "8bn1ZkTWIuCH"
   },
   "source": [
    "# Marrakech MCTS\n",
    "\n",
    "Notebook pour les expériences.\n",
    "\n",
    "Liens :\n",
    "\n",
    "- cours : https://www.lamsade.dauphine.fr/~cazenave/MonteCarlo.pdf\n",
    "\n",
    "- Modélisation : https://github.com/sor8sh/Marrakech/blob/main/main.py\n",
    "- Idee diff de MCTS : https://github.com/IraSkyx/marrakech-ai\n",
    "- https://github.com/bubka42/marrakech\n",
    "- MCTS for stochastic games : https://www.lamsade.dauphine.fr/~cazenave/papers/mctrsg.pdf\n"
   ]
  },
  {
   "cell_type": "code",
   "execution_count": 1,
   "metadata": {},
   "outputs": [],
   "source": [
    "from pickle import NEWOBJ_EX\n",
    "import numpy as np\n",
    "import matplotlib.pyplot as plt\n",
    "from matplotlib import colors\n",
    "from itertools import cycle, count\n",
    "import random \n",
    "import copy\n",
    "from tqdm import tqdm\n",
    "import math\n",
    "import time\n",
    "import random\n",
    "from collections import defaultdict\n",
    "import pandas as pd\n",
    "from itertools import combinations\n",
    "import plotly.express as px\n",
    "import plotly.graph_objects as go\n",
    "import pickle\n",
    "import seaborn as sns"
   ]
  },
  {
   "cell_type": "code",
   "execution_count": 15,
   "metadata": {},
   "outputs": [],
   "source": [
    "def save_pickle(doc, filename):\n",
    "    with open(f'./results/{filename}.pkl', 'wb') as handle:\n",
    "        pickle.dump(doc, handle, protocol=pickle.HIGHEST_PROTOCOL)\n",
    "\n",
    "def load_pickle(filename):\n",
    "    with open(f'./results/{filename}.pkl', 'rb') as handle:\n",
    "         doc = pickle.load(handle)\n",
    "    return doc"
   ]
  },
  {
   "cell_type": "markdown",
   "metadata": {},
   "source": [
    "# 1 - Implémentation du jeu"
   ]
  },
  {
   "cell_type": "code",
   "execution_count": 2,
   "metadata": {
    "id": "mHWAIJvPppM9"
   },
   "outputs": [],
   "source": [
    "###########################\n",
    "# --- GLOBAL VARIABLES ---\n",
    "###########################\n",
    "\n",
    "random.seed(42)\n",
    "\n",
    "BOARD_SIZE=5\n",
    "N_RUGS=8\n",
    "MIDDLE=2\n",
    "DICE=[1,2,2,3]\n",
    "\n",
    "# Colors of the rugs\n",
    "EMPTY = 0\n",
    "RED = 1 #player 1\n",
    "BLUE = 2 #player 2\n",
    "PINK = 3 #player 1\n",
    "GREEN = 4 #player 2\n",
    "\n",
    "\n",
    "colors = [RED, BLUE, PINK, GREEN]\n",
    "color_cycle = cycle(colors)\n",
    "#next(color_cycle) gives the next color to play\n",
    "\n",
    "# Counters for each color to increment when instanciating new Rug, starts at 1\n",
    "red_counter = count(1)\n",
    "blue_counter = count(1)\n",
    "pink_counter = count(1)\n",
    "green_counter = count(1)\n",
    "\n",
    "# Orientations of the pawn\n",
    "NORTH = (0, 1)\n",
    "SOUTH = (0, -1)\n",
    "EAST = (1, 0)\n",
    "WEST = (-1, 0)\n",
    "\n",
    "orientations_int2str = {NORTH: \"north\", SOUTH: \"south\", EAST: \"east\", WEST: \"west\"}\n",
    "colors_int2str = {RED: \"red\", BLUE: \"blue\", PINK: \"pink\", GREEN: \"green\"}\n",
    "\n",
    "# U turns (demi tour) of the pawn\n",
    "u_turn = {\n",
    "    NORTH: SOUTH,\n",
    "    SOUTH: NORTH,\n",
    "    EAST: WEST,\n",
    "    WEST: EAST,\n",
    "}\n",
    "\n",
    "####################\n",
    "# --- FUNCTIONS ---\n",
    "####################\n",
    "\n",
    "def adjacent_coord(coord):\n",
    "    \"\"\"Returns all squares' coordinates (x', y') adjacent to square of coordinate `coord` (x, y)\n",
    "\n",
    "    Args:\n",
    "        coord (tuple of int): coordinate (x,y) of the square of interest\n",
    "\n",
    "    Returns:\n",
    "        list of tuples: list of adjacent positions\n",
    "    \"\"\"\n",
    "    x, y = coord\n",
    "    answer = []\n",
    "    if -1 < x - 1 < BOARD_SIZE:\n",
    "        answer.append((x - 1, y))\n",
    "    if -1 < x + 1 < BOARD_SIZE:\n",
    "        answer.append((x + 1, y))\n",
    "    if -1 < y - 1 < BOARD_SIZE:\n",
    "        answer.append((x, y - 1))\n",
    "    if -1 < y + 1 < BOARD_SIZE:\n",
    "        answer.append((x, y + 1))\n",
    "    return answer\n",
    "\n",
    "def next_color(color):\n",
    "    '''\n",
    "    Permet de trouver la couleur du tapis suivant à poser.\n",
    "    '''\n",
    "    next = ''\n",
    "    if color == RED:\n",
    "        next = BLUE\n",
    "    elif color == BLUE:\n",
    "        next = PINK\n",
    "    elif color == PINK:\n",
    "        next = GREEN\n",
    "    elif color == GREEN:\n",
    "        next = RED\n",
    "\n",
    "    if next == '':\n",
    "        print('The color is incorrect')\n",
    "\n",
    "    return next\n",
    "  \n",
    "\n",
    "##################\n",
    "# --- CLASSES ---\n",
    "##################\n",
    "\n",
    "class Position(object):\n",
    "    def __init__(self, x, y):\n",
    "        self.x = x\n",
    "        self.y = y\n",
    "\n",
    "    def __str__(self):\n",
    "        return f'({self.x},{self.y})'\n",
    "\n",
    "    def get_coord(self):\n",
    "        return self.x, self.y\n",
    "\n",
    "    def is_out_of_board(self, board_limit):\n",
    "        \"\"\"Check if the position of coordinates (x,y) is outside the board.\n",
    "        \n",
    "        Args:\n",
    "            board_limit (int): board limit in terms of indices \n",
    "                               (e.g. if board is of size 7, then board_limit = 6)\n",
    "        \"\"\"\n",
    "\n",
    "        if self.x < 0 or self.x > board_limit or self.y < 0 or self.y > board_limit:\n",
    "            return True\n",
    "        return False\n",
    "\n",
    "\n",
    "class Rug(object):\n",
    "\n",
    "    def __init__(self, color, sq1_pos, sq2_pos, incr=False):\n",
    "        self.color = color\n",
    "        self.sq1_pos = Position(sq1_pos[0], sq1_pos[1]) \n",
    "        self.sq2_pos = Position(sq2_pos[0], sq2_pos[1])\n",
    "        if incr:\n",
    "            self.id = self.increment_id()\n",
    "        else:\n",
    "            self.id = 0\n",
    "\n",
    "    def __str__(self):\n",
    "        return f\"Rug {colors_int2str[self.color]} of id {self.id} at position ({self.sq1_pos}, {self.sq2_pos}).\"\n",
    "\n",
    "    def increment_id(self):\n",
    "        if self.color == RED:\n",
    "            return next(red_counter)\n",
    "        if self.color == BLUE:\n",
    "            return next(blue_counter)\n",
    "        if self.color == PINK:\n",
    "            return next(pink_counter)\n",
    "        if self.color == GREEN:\n",
    "            return next(green_counter)\n",
    "\n",
    "    def create_real(self, incr=True):\n",
    "        rug_copy = Rug(self.color, self.sq1_pos.get_coord(), self.sq2_pos.get_coord(), incr)\n",
    "        return rug_copy\n",
    "\n",
    "class Pawn(object):\n",
    "    def __init__(self):\n",
    "        # The pawn start at the center of the board\n",
    "        self.position = Position(MIDDLE, MIDDLE)\n",
    "        self.orientation = NORTH\n",
    "\n",
    "    def __str__(self):\n",
    "        result = f'({self.position}, {orientations_int2str[self.orientation]})'\n",
    "        return result\n",
    "    \n",
    "    def set_position(self, x, y):\n",
    "        self.position.x = x\n",
    "        self.position.y = y\n",
    "\n",
    "    def set_orientation(self, orientation):\n",
    "        self.orientation = orientation\n",
    "\n",
    "    def legal_orientations(self):\n",
    "        # The pawn cannot make a u turn\n",
    "        orientations = [NORTH, SOUTH, EAST, WEST]\n",
    "        orientations.remove(u_turn[self.orientation])\n",
    "        return orientations\n",
    "\n",
    "    def legal_move(self, new_orientation, dice):\n",
    "\n",
    "        #   Case 1: pawn does not go out from the board\n",
    "        legal_x = self.position.x + new_orientation[0] * dice\n",
    "        legal_y = self.position.y + new_orientation[1] * dice\n",
    "        legal_position = Position(legal_x, legal_y)\n",
    "\n",
    "        #   Case 2: pawn goes out from the board (implementation brute-force)\n",
    "        if legal_position.is_out_of_board(board_limit=(BOARD_SIZE-1)): \n",
    "            # Count the number of steps left after moving out of the board\n",
    "            # Place the pawn at the limit of the board\n",
    "            if new_orientation == NORTH:\n",
    "                steps_left = legal_y - (BOARD_SIZE-1)\n",
    "                legal_y = (BOARD_SIZE-1)\n",
    "            elif new_orientation == EAST:\n",
    "                steps_left = legal_x - (BOARD_SIZE-1)\n",
    "                legal_x = (BOARD_SIZE-1)\n",
    "            elif new_orientation == SOUTH:\n",
    "                steps_left = -legal_y\n",
    "                legal_y = 0\n",
    "            elif new_orientation == WEST:\n",
    "                steps_left = -legal_x\n",
    "                legal_x = 0\n",
    "\n",
    "            # Place the pawn after it has moved out from the board \n",
    "            # It counts as a step\n",
    "            new_orientation, legal_x, legal_y = self.get_move_in_board(new_orientation, legal_x, legal_y)\n",
    "            steps_left = steps_left - 1\n",
    "            \n",
    "            # Move the pawn according to the number of steps left\n",
    "            legal_x = legal_x + new_orientation[0] * steps_left\n",
    "            legal_y = legal_y + new_orientation[1] * steps_left\n",
    "        \n",
    "        return new_orientation, legal_x, legal_y\n",
    "\n",
    "    def get_move_in_board(self, orientation, x, y):\n",
    "        \"\"\"Get the new orientation and coordinates (new_x, new_y) of the pawn after moving out of the board.\"\"\"\n",
    "        # Bottom left corner (0,0)\n",
    "        if (x, y) == (0,0) and orientation == SOUTH:\n",
    "            orientation = EAST\n",
    "        elif (x, y) == (0,0) and orientation == WEST:\n",
    "            orientation = NORTH\n",
    "        # Top right corner (6,6)\n",
    "        elif (x, y) == ((BOARD_SIZE-1),(BOARD_SIZE-1)) and orientation == EAST:\n",
    "            orientation = SOUTH\n",
    "        elif (x, y) == ((BOARD_SIZE-1),(BOARD_SIZE-1)) and orientation == NORTH:\n",
    "            orientation = WEST\n",
    "        # Bottom side (y = 0)\n",
    "        elif orientation == SOUTH:\n",
    "            x = x + 1 if x % 2 == 1 else x - 1\n",
    "            orientation = NORTH\n",
    "        # Right side (x = 6)\n",
    "        elif orientation == EAST:\n",
    "            y = y + 1 if y % 2 == 0 else y - 1\n",
    "            orientation = WEST\n",
    "        # Top side (y = 6)\n",
    "        elif orientation == NORTH:\n",
    "            x = x + 1 if x % 2 == 0 else x - 1\n",
    "            orientation = SOUTH\n",
    "        # Left side (x = 0)\n",
    "        elif orientation == WEST:\n",
    "            y = y + 1 if y % 2 == 1 else y - 1\n",
    "            orientation = EAST\n",
    "        return orientation, x, y\n",
    "\n",
    "    def move(self, new_orientation, new_x, new_y):\n",
    "        self.set_orientation(new_orientation)\n",
    "        self.set_position(new_x, new_y)\n",
    "\n",
    "    def get_nb_same_color_squares(self, board):\n",
    "        \"\"\"Compute the number of adjacents squares of the same color\n",
    "        as the square's color on which the pawn is\"\"\"\n",
    "        counter = 1 # Init to 1 because the initial square counts\n",
    "        pawn_x, pawn_y = self.position.get_coord()\n",
    "        pawn_color = board.get_color(pawn_x, pawn_y)\n",
    "\n",
    "        coords_to_check = adjacent_coord((pawn_x, pawn_y))\n",
    "        visited_coords = set((pawn_x, pawn_y))\n",
    "        while coords_to_check:\n",
    "            x, y = coords_to_check.pop(0)\n",
    "            visited_coords.add((x, y))\n",
    "            color = board.get_color(x, y)\n",
    "            if color == pawn_color:\n",
    "                counter += 1\n",
    "                adj_coords = adjacent_coord((x,y))\n",
    "                # Only append to coords_to_check not visited coords yet and of same color as the pawn\n",
    "                for coord in adj_coords:\n",
    "                    if coord not in visited_coords:\n",
    "                        coords_to_check.append(coord)\n",
    "        return counter\n",
    "\n",
    "  \n",
    "class Player(object):\n",
    "    def __init__(self, id, colors):\n",
    "        self.id = id\n",
    "        self.colors = colors\n",
    "        self.rugs_left = 2*N_RUGS\n",
    "        self.coins = 30\n",
    "    \n",
    "    def pay(self, amount, opponent_player):\n",
    "        #If the player doesn't have enough money\n",
    "        if self.coins - amount < 0:\n",
    "            opponent_player.coins += self.coins\n",
    "            self.coins = 0\n",
    "        #If the player can pay\n",
    "        else:\n",
    "            self.coins -= amount\n",
    "            opponent_player.coins += amount\n",
    "\n",
    "    def score(self, board):\n",
    "        # Sum of coins and the number of squares of the player's colors\n",
    "        s = self.coins\n",
    "        for x in range(board.size):\n",
    "            for y in range(board.size):\n",
    "                if board.board[x,y][0] in self.colors:\n",
    "                    s += 1\n",
    "        return s\n",
    "  \n",
    "class Move(object):\n",
    "    def __init__(self, pawn, new_orientation, new_x, new_y, rug, dice):\n",
    "        self.pawn = pawn\n",
    "        self.new_orientation = new_orientation\n",
    "        self.new_x = new_x\n",
    "        self.new_y = new_y\n",
    "        self.rug = rug\n",
    "        self.dice = dice\n",
    "        \n",
    "    def __str__(self):\n",
    "        \n",
    "        if self.pawn.orientation == self.new_orientation:\n",
    "            assam = f'The pawn stays in his orientation ({orientations_int2str[self.pawn.orientation]}).\\n'\n",
    "        else:\n",
    "            assam = f'The pawn is reoriented from {orientations_int2str[self.pawn.orientation]} to {orientations_int2str[self.new_orientation]}.\\n'\n",
    "        assam_move = f'Assam is moving from {self.pawn.position.__str__()} to ({self.new_x},{self.new_y}).\\n'\n",
    "        tapis = f\"A rug of color {colors_int2str[self.rug.color]} (id={self.rug.id}) is placed at ({self.rug.sq1_pos}, {self.rug.sq2_pos}).\"\n",
    "        result = assam + assam_move + tapis\n",
    "        return result\n",
    "        \n",
    "        #result = f'({orientations_int2str[self.new_orientation]}, ({self.new_x, self.new_y}), {self.rug})'\n",
    "        #return result \n",
    "\n",
    "    def is_pawn_new_orientation_valid(self):\n",
    "        # It is valid if no u-turn\n",
    "        return self.new_orientation in self.pawn.legal_orientations()\n",
    "\n",
    "    def is_pawn_new_position_valid(self):\n",
    "        \n",
    "        return True\n",
    "\n",
    "    def is_rug_adjacent_to_pawn(self):\n",
    "        # Check if adjacent to pawn and also not on the pawn's position\n",
    "\n",
    "        # List of all valid coordinates around the pawn\n",
    "        x, y = self.new_x, self.new_y\n",
    "        init_valid_coord = adjacent_coord((x, y))\n",
    "        valid_coord = init_valid_coord.copy()\n",
    "        for coord in init_valid_coord:\n",
    "            valid_coord.extend(adjacent_coord(coord))\n",
    "        set_valid_coord = set(valid_coord)\n",
    "        set_valid_coord.remove((x, y))\n",
    "\n",
    "        # Check if the rug's both squares are in the set\n",
    "        if self.rug.sq1_pos.get_coord() and self.rug.sq2_pos.get_coord() in set_valid_coord:\n",
    "            return True\n",
    "        return False\n",
    "\n",
    "    def is_rug_covering_another_rug(self, board):\n",
    "        # Rug's new placement is valid if it doesn't cover another rug\n",
    "        # We need to check if the both squares are covered by the same rug (same color and same id)\n",
    "        sq1_color_and_id = board.board[self.rug.sq1_pos.x, self.rug.sq1_pos.y]\n",
    "        sq2_color_and_id = board.board[self.rug.sq2_pos.x, self.rug.sq2_pos.y]\n",
    "        if not np.array_equal(sq1_color_and_id, np.zeros(2)) and np.array_equal(sq1_color_and_id, sq2_color_and_id):\n",
    "            return True\n",
    "        return False\n",
    "\n",
    "    def valid(self, board):\n",
    "        #print(self.is_pawn_new_orientation_valid(), self.is_pawn_new_position_valid(), self.is_rug_adjacent_to_pawn(), self.is_rug_covering_another_rug(board)) \n",
    "        if not self.is_pawn_new_orientation_valid():\n",
    "            return False\n",
    "        elif not self.is_pawn_new_position_valid():\n",
    "            return False\n",
    "        elif not self.is_rug_adjacent_to_pawn():\n",
    "            return False\n",
    "        elif self.is_rug_covering_another_rug(board):\n",
    "            return False\n",
    "        return True\n",
    "\n",
    "class Board(object):\n",
    "    def __init__(self, size=BOARD_SIZE, verbose=False):\n",
    "        self.h = 0 # Hash value\n",
    "        self.size = size\n",
    "        self.board = np.zeros((size, size, 2)) # Cell(x,y) = (rug_color, rug_id)\n",
    "        self.pawn = Pawn() # Initialize at (3,3)\n",
    "        self.players = [Player(0, [RED, PINK]), Player(1, [BLUE, GREEN])]\n",
    "        self.current_player = self.players[0]\n",
    "        self.current_color = RED # Start with first color of first player\n",
    "        self.verbose = verbose\n",
    "        self.nb_turns = 1\n",
    "        self.cycle_players = cycle(self.players)\n",
    "\n",
    "        self.hashTable = defaultdict()\n",
    "        for pawn in ['assam', 'no_assam']:\n",
    "            self.hashTable[pawn] = defaultdict()\n",
    "            for orientation in [NORTH, SOUTH, EAST, WEST]:\n",
    "                self.hashTable[pawn][orientation] = defaultdict()\n",
    "                for dice_result in [1, 2, 3]:\n",
    "                    self.hashTable[pawn][orientation][dice_result] = defaultdict()\n",
    "                    for x in range(5):\n",
    "                        self.hashTable[pawn][orientation][dice_result][x] = defaultdict()\n",
    "                        for y in range(5):\n",
    "                            self.hashTable[pawn][orientation][dice_result][x][y] = defaultdict()\n",
    "                            for rug_color in [RED, BLUE, PINK, GREEN, EMPTY]:\n",
    "                                self.hashTable[pawn][orientation][dice_result][x][y][rug_color] = random.randint(0, 2**64)\n",
    "        \n",
    "        self.hashTurn = random.randint(0, 2**64) # hash value for changing player\n",
    "        self.hashColor = random.randint(0, 2**64) # hash value for changing rug color\n",
    "        #self.transpositionTable = {}\n",
    "        # (h, (total_num_playouts,\n",
    "        #      list num playouts for each move,\n",
    "        #      list num wins for each move))\n",
    "        \n",
    "        \n",
    "        \n",
    "        \n",
    "    def __str__(self):\n",
    "        #print(self.board)\n",
    "        pass\n",
    "\n",
    "    def throw_dice(self):\n",
    "        dice = DICE\n",
    "        return random.choice(dice)\n",
    "\n",
    "    def get_color(self, x, y):\n",
    "        \"\"\"Get the color of the square (x,y)\"\"\"\n",
    "        return self.board[x,y][0]\n",
    "\n",
    "    def get_number(self, x, y):\n",
    "        \"\"\"Get the number of the square (x,y)\"\"\"\n",
    "        return self.board[x,y][1]\n",
    "\n",
    "    def legal_moves(self, dice):\n",
    "        \"\"\"Get list of legal moves among 4x49x12 possible moves.\n",
    "\n",
    "        - Orientation (4, including 3 valid)\n",
    "        - Pawn movement (49, including 1 valid according to the orientation and dice's result)\n",
    "        - Rug placement (12, including ? according to the pawn and other rugs' position)\n",
    "\n",
    "        \"\"\"\n",
    "        moves = [] # List of all possible valid moves\n",
    "\n",
    "        # For every orientation\n",
    "        for orientation in [NORTH, SOUTH, EAST, WEST]:\n",
    "            if orientation != u_turn[self.pawn.orientation]:\n",
    "                #we check where the pawn should end\n",
    "                _, x, y = self.pawn.legal_move(orientation, dice)\n",
    "                # For every square around the pawn\n",
    "                for sq1_coord in adjacent_coord((x, y)):\n",
    "                    # For every square around those squares\n",
    "                    for sq2_coord in adjacent_coord(sq1_coord):\n",
    "                        rug_notreal = Rug(self.current_color, sq1_coord, sq2_coord)\n",
    "                        m = Move(self.pawn, orientation, x, y, rug_notreal, dice)\n",
    "                        # Check if the move is legal\n",
    "\n",
    "                        if m.valid(self):\n",
    "                            # If yes, add to moves\n",
    "\n",
    "                            moves.append(m)\n",
    "        return moves\n",
    "\n",
    "    def score(self):\n",
    "        # We can think the score as player1's score - player2's score\n",
    "        # Such that if it's positive, player 1 wins, if negative player 2 wins \n",
    "        player1_score = self.players[0].score(self)\n",
    "        player2_score = self.players[1].score(self)\n",
    "        return player1_score - player2_score\n",
    "\n",
    "    def terminal(self):\n",
    "        total = 0\n",
    "        for player in self.players:\n",
    "            total += player.rugs_left\n",
    "        if total == 0:\n",
    "            return True\n",
    "        return False\n",
    "\n",
    "    def play(self, move):\n",
    "        \n",
    "        move.rug = move.rug.create_real()\n",
    "        if self.verbose:\n",
    "          print(move.__str__())\n",
    "        \n",
    "        # 1. Orientate and move the pawn\n",
    "        self.pawn.move(move.new_orientation, move.new_x, move.new_y)\n",
    "        \n",
    "        self.h = self.h ^ self.hashTable['no_assam'][self.pawn.orientation][move.dice][self.pawn.position.x][self.pawn.position.y][self.get_color(self.pawn.position.x, self.pawn.position.y)]\n",
    "        self.h = self.h ^ self.hashTable['assam'][move.new_orientation][move.dice][move.new_x][move.new_y][self.get_color(move.new_x, move.new_y)]\n",
    "\n",
    "        # 2. Place a rug\n",
    "        self.board[move.rug.sq1_pos.x, move.rug.sq1_pos.y] = np.array([move.rug.color, move.rug.id])\n",
    "        self.board[move.rug.sq2_pos.x, move.rug.sq2_pos.y] = np.array([move.rug.color, move.rug.id])\n",
    "        self.current_player.rugs_left -= 1\n",
    "        \n",
    "        self.h = self.h ^ self.hashTable['no_assam'][move.new_orientation][move.dice][move.rug.sq1_pos.x][move.rug.sq1_pos.y][move.rug.color]\n",
    "        self.h = self.h ^ self.hashTable['no_assam'][move.new_orientation][move.dice][move.rug.sq2_pos.x][move.rug.sq2_pos.y][move.rug.color]\n",
    "        \n",
    "        # 3. Pay opponent\n",
    "        # Pay only if the pawn is on an opponent color\n",
    "        current_square_color = self.get_color(self.pawn.position.x, self.pawn.position.y)\n",
    "        opponent_player_id = abs(self.current_player.id - 1)\n",
    "        if self.verbose:\n",
    "            if current_square_color:\n",
    "                print(f'The players ends on a {colors_int2str[current_square_color]} rug.')\n",
    "            else:\n",
    "                print(f'The player ends on an empty case.')\n",
    "        #very important : the player only have to pay if he is on an opponent rug ! not if it is an empty case !\n",
    "        if current_square_color:\n",
    "            if current_square_color not in self.current_player.colors:\n",
    "                amount = self.pawn.get_nb_same_color_squares(self)\n",
    "                if self.verbose:\n",
    "                    print(f'This rug belongs to player {self.players[opponent_player_id].id}.')\n",
    "                    print(f'The current player has to give him {amount} coins.')\n",
    "                self.current_player.pay(amount, self.players[opponent_player_id])\n",
    "            else:\n",
    "                if self.verbose:\n",
    "                    print(\"The rug is his so he doesn't have to pay.\")\n",
    "        if self.verbose:\n",
    "            print(f'Player {self.players[0].id} has {self.players[0].coins} coins. Player {self.players[1].id} has {self.players[1].coins}.')\n",
    "          \n",
    "        # Change turn\n",
    "        self.current_player = self.players[opponent_player_id]\n",
    "        #self.current_payer = next(self.cycle_players)\n",
    "        self.current_color = next_color(self.current_color)\n",
    "        \n",
    "        self.h = self.h ^ self.hashTurn \n",
    "        self.h = self.h ^ self.hashColor\n",
    "\n",
    "    def playout(self):\n",
    "        \"\"\"Play a random game from the current state.\n",
    "        Returns the result of the random game.\"\"\"\n",
    "\n",
    "        while(True):\n",
    "            # Throw the dice for the current player\n",
    "            dice_result = self.throw_dice()\n",
    "            #We get all the legal moves for this dice result\n",
    "            moves = self.legal_moves(dice=dice_result)\n",
    "            # If the game is over\n",
    "            if self.terminal():\n",
    "                # Victory for player 1\n",
    "                if self.score() < 0:\n",
    "                    if self.verbose:\n",
    "                        print(\"Player 1 wins !!!\")\n",
    "                    return -1\n",
    "                # Victory for player 0\n",
    "                elif self.score() > 0:\n",
    "                    if self.verbose:\n",
    "                        print(\"Player 0 wins !!!\")\n",
    "                    return 1\n",
    "                # Draw\n",
    "                else:\n",
    "                    if self.verbose:\n",
    "                        print(\"Draw...\")\n",
    "                    return 0\n",
    "            \n",
    "            if self.verbose:\n",
    "              print(f'{self.nb_turns}.')\n",
    "              print(f'Player {self.current_player.id} throws the dice. The result is {dice_result}.')\n",
    "\n",
    "            # The game isn't over: rugs are remaining\n",
    "            # We play another move chosen randomly\n",
    "            n = random.randint(0, len(moves)-1)\n",
    "            self.play(moves[n])\n",
    "            self.nb_turns+=1\n",
    "            if self.verbose:\n",
    "                print('\\n')"
   ]
  },
  {
   "cell_type": "markdown",
   "metadata": {},
   "source": [
    "# 2 - Implémentations des algorithmes"
   ]
  },
  {
   "cell_type": "markdown",
   "metadata": {},
   "source": [
    "## Aléatoire"
   ]
  },
  {
   "cell_type": "code",
   "execution_count": 3,
   "metadata": {},
   "outputs": [],
   "source": [
    "def rand_strat(board, n_playouts, use_score=False):\n",
    "    dice_result = board.throw_dice()\n",
    "    moves = board.legal_moves(dice_result)\n",
    "    n = random.randint(0, len(moves)-1)\n",
    "    return moves[n]"
   ]
  },
  {
   "cell_type": "markdown",
   "metadata": {},
   "source": [
    "## Flat"
   ]
  },
  {
   "cell_type": "code",
   "execution_count": 4,
   "metadata": {},
   "outputs": [],
   "source": [
    "def flat(board, n, use_score=True):\n",
    "    \"\"\"\n",
    "    Get the move with greatest mean after `n` playouts.\n",
    "    \n",
    "    Args:\n",
    "        n (int): Number of playouts.\n",
    "        use_score (bool): Use the real score to compute the score if True, otherwise use the number of wins\n",
    "    \"\"\"\n",
    "\n",
    "    dice_result = board.throw_dice()\n",
    "    moves = board.legal_moves(dice_result)\n",
    "    sumScores = [0.0 for x in range(len(moves))]\n",
    "    nbVisits = [0 for x in range(len(moves))]\n",
    "    current_player = board.current_player.id\n",
    "\n",
    "    # For each playout\n",
    "    for i in range(n):\n",
    "        m = random.randint(0, len(moves)-1) # Choose a random move\n",
    "        b = copy.deepcopy(board)\n",
    "        b.play(moves[m]) # Play the move\n",
    "        r = b.playout() # Result of the random game from moves[m]\n",
    "\n",
    "        if use_score:\n",
    "            score = b.score() # Score of the random game from moves[m] \n",
    "            sumScores[m] += score \n",
    "        else:\n",
    "            if (current_player == 0 and r == 1) or (current_player == 1 and r == -1):\n",
    "                sumScores[m] += 1\n",
    "        nbVisits[m] += 1 \n",
    "\n",
    "    # Get the move with the greatest mean\n",
    "    bestScore = 0\n",
    "    bestMove = 0\n",
    "    for m in range(len(moves)):\n",
    "        score = 0\n",
    "        if nbVisits[m] > 0:\n",
    "            score = sumScores[m] / nbVisits[m]\n",
    "        # If we don't use score, then maximize\n",
    "        # If we use score, max for player 0, min for player 1\n",
    "        if use_score == False:\n",
    "            if score > bestScore:\n",
    "                bestScore = score\n",
    "                bestMove = m\n",
    "        elif current_player == 0:\n",
    "            if score > bestScore:\n",
    "                bestScore = score\n",
    "                bestMove = m\n",
    "        else:\n",
    "            if score < bestScore:\n",
    "                bestScore = score\n",
    "                bestMove = m\n",
    "    \n",
    "    return moves[bestMove]"
   ]
  },
  {
   "cell_type": "markdown",
   "metadata": {},
   "source": [
    "## UCB"
   ]
  },
  {
   "cell_type": "code",
   "execution_count": 5,
   "metadata": {},
   "outputs": [],
   "source": [
    "def normalize(score):\n",
    "    score = np.clip(score, 40, -40)\n",
    "    return (score - (-40))/(40-(-40))"
   ]
  },
  {
   "cell_type": "code",
   "execution_count": 6,
   "metadata": {},
   "outputs": [],
   "source": [
    "def UCB(board, n, c=0.4, use_score=True):\n",
    "    dice_result = board.throw_dice()\n",
    "    moves = board.legal_moves(dice_result)\n",
    "    sumScores = [0.0 for x in range(len(moves))]\n",
    "    nbVisits = [0 for x in range(len(moves))]\n",
    "    current_player = board.current_player.id\n",
    "    for i in range(n):\n",
    "        bestScore = 0\n",
    "        bestMove = 0\n",
    "        for m in range(len(moves)):\n",
    "            score = 1000000\n",
    "            if nbVisits[m] > 0:\n",
    "                 score = sumScores[m] / nbVisits[m] + c * math.sqrt(math.log(i) / nbVisits[m])\n",
    "            if score > bestScore:\n",
    "                bestScore = score\n",
    "                bestMove = m\n",
    "        b = copy.deepcopy(board)\n",
    "        b.play(moves[bestMove])\n",
    "        r = b.playout()\n",
    "        s = b.score()\n",
    "        if use_score:\n",
    "            if current_player == 0:\n",
    "                sumScores[bestMove] += normalize(s)\n",
    "            else:\n",
    "                sumScores[bestMove] += (1 - normalize(s))\n",
    "        else:\n",
    "            if (current_player == 0 and r == 1) or (current_player == 1 and r == -1):\n",
    "                sumScores[bestMove] += 1\n",
    "\n",
    "        nbVisits[bestMove] += 1\n",
    "    \n",
    "    # Get the most visited move\n",
    "    bestScore = 0\n",
    "    bestMove = 0\n",
    "    for m in range(len(moves)):\n",
    "        score = nbVisits[m]\n",
    "        if score > bestScore:\n",
    "            bestScore = score\n",
    "            bestMove = m\n",
    "    return moves[bestMove]"
   ]
  },
  {
   "cell_type": "markdown",
   "metadata": {},
   "source": [
    "## UCT"
   ]
  },
  {
   "cell_type": "code",
   "execution_count": 7,
   "metadata": {},
   "outputs": [],
   "source": [
    "MaxLegalMoves = 4 * (BOARD_SIZE * BOARD_SIZE) * 12 # 4 orientations * (5x5) pawn move * 12 rug placement\n",
    "Table = {}\n",
    "# (h, (total_num_playouts,\n",
    "#      list num playouts for each move,\n",
    "#      list of scores (nwins if use_score=False, normalized score if use_score=True) for each move))\n",
    "\n",
    "        \n",
    "def look(board):\n",
    "    \"\"\"Returns the entry of the board in the transposition table.\"\"\"\n",
    "    return Table.get(board.h, None)\n",
    "\n",
    "def add(board):\n",
    "    \"\"\"Adds an empty entry for the board in the transposition table.\"\"\"\n",
    "    nplayouts = [0.0 for x in range(MaxLegalMoves)]\n",
    "    nwins = [0.0 for x in range(MaxLegalMoves)]\n",
    "    Table[board.h] = [0, nplayouts, nwins]"
   ]
  },
  {
   "cell_type": "code",
   "execution_count": 8,
   "metadata": {},
   "outputs": [],
   "source": [
    "def UCT(board, c=0.4, use_score=True):\n",
    "    if board.terminal():\n",
    "        return board.score()\n",
    "    current_player = board.current_player.id\n",
    "    t = look(board) \n",
    "    if t != None: # If current config visited\n",
    "        bestValue = -1000000.0\n",
    "        bestMove = 0\n",
    "        dice_result = board.throw_dice()\n",
    "        moves = board.legal_moves(dice_result)\n",
    "        for m in range(len(moves)):\n",
    "            val = 1000000.0\n",
    "            if t[1][m] > 0: # nplayouts\n",
    "                Q = t[2][m] / t[1][m] # winrate\n",
    "                if board.current_player.id == 1:\n",
    "                    Q = 1 - Q\n",
    "                val = Q + c * math.sqrt(math.log(t[0]) / t[1][m])\n",
    "            if val > bestValue:\n",
    "                bestValue = val\n",
    "                bestMove = m\n",
    "        board.play(moves[bestMove])\n",
    "        res = UCT(board, c)\n",
    "        t[0] += 1\n",
    "        t[1][bestMove] += 1 # +1 playout\n",
    "        if use_score:\n",
    "            s = board.score()\n",
    "            if current_player == 0:\n",
    "                t[2][bestMove] += normalize(s)\n",
    "            else:\n",
    "                t[2][bestMove] += (1 - normalize(s))\n",
    "        else:\n",
    "            if (current_player == 0 and res == 1) or (current_player == 1 and res == -1):\n",
    "                t[2][bestMove] += 1\n",
    "        return res\n",
    "    else:\n",
    "        add(board)\n",
    "        return board.playout()\n",
    "\n",
    "def BestMoveUCT(board, n, c=0.4, use_score=True):\n",
    "    global Table\n",
    "    Table = {}\n",
    "    for i in range(n):\n",
    "        b1 = copy.deepcopy(board)\n",
    "        res = UCT(b1, c, use_score)\n",
    "    t = look(board)\n",
    "    current_player = board.current_player.id\n",
    "    dice_result = board.throw_dice()\n",
    "    moves = board.legal_moves(dice_result)\n",
    "    bestMove = 0\n",
    "    bestValue = t[2][0]\n",
    "    for m in range(1, len(moves)):\n",
    "        if use_score == False:\n",
    "            if t[2][m] > bestValue:\n",
    "                bestValue = t[2][m]\n",
    "                bestMove = m\n",
    "        elif current_player == 0:\n",
    "            if t[2][m] > bestValue:\n",
    "                bestValue = t[2][m]\n",
    "                bestMove = m\n",
    "        else:\n",
    "            if t[2][m] < bestValue:\n",
    "                bestValue = t[2][m]\n",
    "                bestMove = m\n",
    "\n",
    "    return moves[bestMove]"
   ]
  },
  {
   "cell_type": "markdown",
   "metadata": {},
   "source": [
    "# 3 - Expériences"
   ]
  },
  {
   "cell_type": "markdown",
   "metadata": {},
   "source": [
    "## Fonctions"
   ]
  },
  {
   "cell_type": "markdown",
   "metadata": {},
   "source": [
    "Pour lancer une partie"
   ]
  },
  {
   "cell_type": "code",
   "execution_count": 9,
   "metadata": {},
   "outputs": [],
   "source": [
    "def play_game(n_games, strategy1, strategy2, n_playouts=None, use_score1=False, use_score2=False, verbose=True, use_tqdm=True):\n",
    "    \"\"\"Returns win rate for player 0\"\"\"\n",
    "    n_wins1 = 0\n",
    "    n_wins2 = 0\n",
    "    draw = 0\n",
    "    s = 0\n",
    "    if use_tqdm:\n",
    "        num_games = tqdm(range(n_games))\n",
    "    else:\n",
    "        num_games = range(n_games)\n",
    "    for i in num_games:\n",
    "        game = Board(verbose=False)\n",
    "        i=1\n",
    "        while(not game.terminal()):\n",
    "            #print(f'Tour {i}')\n",
    "            i+=1\n",
    "            current_player=game.current_player.id\n",
    "            #print(current_player)\n",
    "            if current_player == 0:\n",
    "                best_move = strategy1(game, n_playouts, use_score=use_score1)\n",
    "            if current_player == 1:\n",
    "                best_move = strategy2(game, n_playouts, use_score=use_score2)\n",
    "            game.play(best_move)\n",
    "        score = game.score()\n",
    "        #print(f'score = {score}')\n",
    "        if score > 0: #victory for player 0\n",
    "            n_wins1 += 1\n",
    "        elif score < 0:\n",
    "            n_wins2 +=1\n",
    "        elif score == 0:\n",
    "            draw +=1\n",
    "        s += score\n",
    "        #print(score, normalize(score))\n",
    "    if verbose:\n",
    "        print(f'Winrate of player 0 : {n_wins1/n_games}')\n",
    "        print(f'Winrate of player 1 : {n_wins2/n_games}')\n",
    "        print(f'Number of draw : {draw}')\n",
    "        print(f'Mean score : {s/n_games}')\n",
    "    \n",
    "    return n_wins1/n_games, n_wins2/n_games, draw, s/n_games"
   ]
  },
  {
   "cell_type": "markdown",
   "metadata": {},
   "source": [
    "Pour calculer les résultats"
   ]
  },
  {
   "cell_type": "code",
   "execution_count": 10,
   "metadata": {},
   "outputs": [],
   "source": [
    "str2func = {'random':rand_strat, 'flat':flat, 'flat_score':flat, 'ucb':UCB, 'ucb_score':UCB, 'uct':BestMoveUCT, 'uct_score':BestMoveUCT}\n",
    "list_strats = ['random', 'flat', 'flat_score', 'ucb', 'ucb_score', 'uct', 'uct_score'] "
   ]
  },
  {
   "cell_type": "code",
   "execution_count": 11,
   "metadata": {},
   "outputs": [],
   "source": [
    "def results(n_games=100, n_playouts=500):\n",
    "    results = pd.DataFrame(columns=list_strats, index=list_strats)\n",
    "    dict_mean_scores = dict()\n",
    "    for game in list(combinations(list_strats, 2)):\n",
    "        if game[0] != game[1]:\n",
    "            if game[0].endswith('score'):\n",
    "                use_score1=True\n",
    "            else:\n",
    "                use_score1=False\n",
    "            if game[1].endswith('score'):\n",
    "                use_score2=True\n",
    "            else:\n",
    "                use_score2=False\n",
    "            print(f'########## {game[0]} VS {game[1]}. ##########')\n",
    "            winrate_p1, winrate_p2, draw, mean_score = play_game(n_games, strategy1=str2func[game[0]], strategy2=str2func[game[1]], \n",
    "                                                                 n_playouts=n_playouts, use_score1=use_score1, use_score2=use_score2)\n",
    "            results.at[game[0],game[1]] = winrate_p1\n",
    "            results.at[game[1],game[0]] = winrate_p2\n",
    "            dict_mean_scores[(game[0],game[1])] = mean_score\n",
    "            save_pickle(results, f'results{n_playouts}')\n",
    "            save_pickle(dict_mean_scores, f'dict_mean_scores{n_playouts}')\n",
    "    return results, dict_mean_scores"
   ]
  },
  {
   "cell_type": "markdown",
   "metadata": {},
   "source": [
    "Pour afficher les scores moyens"
   ]
  },
  {
   "cell_type": "code",
   "execution_count": 12,
   "metadata": {},
   "outputs": [],
   "source": [
    "def plot_scores(n_games=20):\n",
    "    n_playouts=[10, 25, 50, 100, 200, 300, 400, 500]\n",
    "    #test\n",
    "    #n_playouts=[1,2]\n",
    "    fig = go.Figure()\n",
    "    L_res = []\n",
    "    for strat in list_strats:\n",
    "        print(f'########## {strat} VS random. ##########')\n",
    "        if strat.endswith('score'):\n",
    "            use_score1=True\n",
    "        else:\n",
    "            use_score1=False\n",
    "        L = []\n",
    "        for n in n_playouts:\n",
    "            _, _, _, mean_score = play_game(n_games, strategy1=str2func[strat], strategy2=rand_strat, \n",
    "                                                                 n_playouts=n, use_score1=use_score1, \n",
    "                                                                 use_score2=False, verbose=False)\n",
    "            L.append(mean_score)\n",
    "            print(f'n = {n}\\tmean_score = {mean_score}')\n",
    "\n",
    "        save_pickle(L, f'plot_res_{strat}')\n",
    "        L_res.append(L)\n",
    "        fig.add_trace(go.Scatter(\n",
    "                                x=n_playouts,\n",
    "                                y=L,\n",
    "                                name=f'{strat}',\n",
    "                            ))\n",
    "    #fig.show()\n",
    "    fig.update_layout(title=f'Mean score per number of playouts for {n_games} games with different strategies against random',\n",
    "                      legend_title_text='Strategies',\n",
    "                      xaxis_title='Number of playouts',\n",
    "                      yaxis_title='Mean score')\n",
    "    save_pickle(L_res, 'plot_res')\n",
    "    return fig"
   ]
  },
  {
   "cell_type": "markdown",
   "metadata": {},
   "source": [
    "## Calculs"
   ]
  },
  {
   "cell_type": "code",
   "execution_count": 18,
   "metadata": {},
   "outputs": [],
   "source": [
    "start_time = time.time()"
   ]
  },
  {
   "cell_type": "code",
   "execution_count": null,
   "metadata": {},
   "outputs": [],
   "source": [
    "fig = plot_scores()"
   ]
  },
  {
   "cell_type": "code",
   "execution_count": null,
   "metadata": {},
   "outputs": [],
   "source": [
    "print(f\"--- {((time.time() - start_time)/60):.2f} minutes ---\")\n",
    "start_time = time.time()"
   ]
  },
  {
   "cell_type": "code",
   "execution_count": null,
   "metadata": {},
   "outputs": [],
   "source": [
    "res20, dict_mean_scores20 = results(n_games=100, n_playouts=20)"
   ]
  },
  {
   "cell_type": "code",
   "execution_count": null,
   "metadata": {},
   "outputs": [],
   "source": [
    "print(f\"--- {(time.time() - start_time)/60} minutes ---\")\n",
    "start_time = time.time()"
   ]
  },
  {
   "cell_type": "code",
   "execution_count": null,
   "metadata": {},
   "outputs": [],
   "source": [
    "res500, dict_mean_scores500 = results(n_games=100, n_playouts=500)"
   ]
  },
  {
   "cell_type": "code",
   "execution_count": null,
   "metadata": {},
   "outputs": [],
   "source": [
    "print(f\"--- {((time.time() - start_time)/60):.2f} minutes ---\")"
   ]
  },
  {
   "cell_type": "markdown",
   "metadata": {},
   "source": [
    "# 4 - Affichage des résultats"
   ]
  },
  {
   "cell_type": "code",
   "execution_count": 57,
   "metadata": {},
   "outputs": [],
   "source": [
    "def plot_tab(res, dict_mean_scores, n_games, n_playouts, list_strats):\n",
    "    res = res.astype(float)\n",
    "    sns.heatmap(res, annot=True, cmap=\"BuPu\")\n",
    "    plt.title(f'Win rate pour {n_games} parties avec {n_playouts} playouts', fontsize = 15)\n",
    "    plt.show()\n",
    "\n",
    "    df_scores = pd.DataFrame(columns = list_strats, index = list_strats)\n",
    "    for key, value in dict_mean_scores.items():\n",
    "        df_scores.at[key[0], key[1]]=value\n",
    "        df_scores.at[key[1], key[0]]=-value\n",
    "\n",
    "    df_scores = df_scores.astype(float)\n",
    "    sns.heatmap(df_scores, annot=True, cmap=\"BuPu\")\n",
    "    plt.title(f'Score moyen pour {n_games} parties avec {n_playouts} playouts', fontsize = 15)\n",
    "    plt.show()"
   ]
  },
  {
   "cell_type": "markdown",
   "metadata": {},
   "source": [
    "## Comparaisons des stratégies pour 20 playouts (100 parties)\n",
    "\n",
    "results[x, y] = p   => Stratégie x a un winrate de p contre stratégie y"
   ]
  },
  {
   "cell_type": "code",
   "execution_count": 38,
   "metadata": {},
   "outputs": [
    {
     "data": {
      "text/html": [
       "<div>\n",
       "<style scoped>\n",
       "    .dataframe tbody tr th:only-of-type {\n",
       "        vertical-align: middle;\n",
       "    }\n",
       "\n",
       "    .dataframe tbody tr th {\n",
       "        vertical-align: top;\n",
       "    }\n",
       "\n",
       "    .dataframe thead th {\n",
       "        text-align: right;\n",
       "    }\n",
       "</style>\n",
       "<table border=\"1\" class=\"dataframe\">\n",
       "  <thead>\n",
       "    <tr style=\"text-align: right;\">\n",
       "      <th></th>\n",
       "      <th>random</th>\n",
       "      <th>flat</th>\n",
       "      <th>flat_score</th>\n",
       "      <th>ucb</th>\n",
       "      <th>ucb_score</th>\n",
       "      <th>uct</th>\n",
       "      <th>uct_score</th>\n",
       "    </tr>\n",
       "  </thead>\n",
       "  <tbody>\n",
       "    <tr>\n",
       "      <th>random</th>\n",
       "      <td>NaN</td>\n",
       "      <td>0.15</td>\n",
       "      <td>0.08</td>\n",
       "      <td>0.37</td>\n",
       "      <td>0.63</td>\n",
       "      <td>0.41</td>\n",
       "      <td>0.5</td>\n",
       "    </tr>\n",
       "    <tr>\n",
       "      <th>flat</th>\n",
       "      <td>0.85</td>\n",
       "      <td>NaN</td>\n",
       "      <td>0.33</td>\n",
       "      <td>0.79</td>\n",
       "      <td>0.97</td>\n",
       "      <td>0.81</td>\n",
       "      <td>0.88</td>\n",
       "    </tr>\n",
       "    <tr>\n",
       "      <th>flat_score</th>\n",
       "      <td>0.92</td>\n",
       "      <td>0.67</td>\n",
       "      <td>NaN</td>\n",
       "      <td>0.78</td>\n",
       "      <td>0.93</td>\n",
       "      <td>0.87</td>\n",
       "      <td>0.85</td>\n",
       "    </tr>\n",
       "    <tr>\n",
       "      <th>ucb</th>\n",
       "      <td>0.62</td>\n",
       "      <td>0.2</td>\n",
       "      <td>0.22</td>\n",
       "      <td>NaN</td>\n",
       "      <td>0.81</td>\n",
       "      <td>0.51</td>\n",
       "      <td>0.77</td>\n",
       "    </tr>\n",
       "    <tr>\n",
       "      <th>ucb_score</th>\n",
       "      <td>0.36</td>\n",
       "      <td>0.02</td>\n",
       "      <td>0.07</td>\n",
       "      <td>0.19</td>\n",
       "      <td>NaN</td>\n",
       "      <td>0.12</td>\n",
       "      <td>0.51</td>\n",
       "    </tr>\n",
       "    <tr>\n",
       "      <th>uct</th>\n",
       "      <td>0.59</td>\n",
       "      <td>0.19</td>\n",
       "      <td>0.11</td>\n",
       "      <td>0.47</td>\n",
       "      <td>0.87</td>\n",
       "      <td>NaN</td>\n",
       "      <td>0.7</td>\n",
       "    </tr>\n",
       "    <tr>\n",
       "      <th>uct_score</th>\n",
       "      <td>0.46</td>\n",
       "      <td>0.1</td>\n",
       "      <td>0.15</td>\n",
       "      <td>0.2</td>\n",
       "      <td>0.48</td>\n",
       "      <td>0.3</td>\n",
       "      <td>NaN</td>\n",
       "    </tr>\n",
       "  </tbody>\n",
       "</table>\n",
       "</div>"
      ],
      "text/plain": [
       "           random  flat flat_score   ucb ucb_score   uct uct_score\n",
       "random        NaN  0.15       0.08  0.37      0.63  0.41       0.5\n",
       "flat         0.85   NaN       0.33  0.79      0.97  0.81      0.88\n",
       "flat_score   0.92  0.67        NaN  0.78      0.93  0.87      0.85\n",
       "ucb          0.62   0.2       0.22   NaN      0.81  0.51      0.77\n",
       "ucb_score    0.36  0.02       0.07  0.19       NaN  0.12      0.51\n",
       "uct          0.59  0.19       0.11  0.47      0.87   NaN       0.7\n",
       "uct_score    0.46   0.1       0.15   0.2      0.48   0.3       NaN"
      ]
     },
     "execution_count": 38,
     "metadata": {},
     "output_type": "execute_result"
    }
   ],
   "source": [
    "res20 = load_pickle('results20')\n",
    "res20"
   ]
  },
  {
   "cell_type": "code",
   "execution_count": 39,
   "metadata": {},
   "outputs": [
    {
     "data": {
      "text/plain": [
       "{('random', 'flat'): -13.83,\n",
       " ('random', 'flat_score'): -28.68,\n",
       " ('random', 'ucb'): -3.15,\n",
       " ('random', 'ucb_score'): 12.85,\n",
       " ('random', 'uct'): -2.84,\n",
       " ('random', 'uct_score'): 1.56,\n",
       " ('flat', 'flat_score'): -8.39,\n",
       " ('flat', 'ucb'): 20.07,\n",
       " ('flat', 'ucb_score'): 43.59,\n",
       " ('flat', 'uct'): 17.33,\n",
       " ('flat', 'uct_score'): 15.96,\n",
       " ('flat_score', 'ucb'): 23.06,\n",
       " ('flat_score', 'ucb_score'): 36.46,\n",
       " ('flat_score', 'uct'): 28.6,\n",
       " ('flat_score', 'uct_score'): 27.31,\n",
       " ('ucb', 'ucb_score'): 16.91,\n",
       " ('ucb', 'uct'): 1.06,\n",
       " ('ucb', 'uct_score'): 12.37,\n",
       " ('ucb_score', 'uct'): -24.99,\n",
       " ('ucb_score', 'uct_score'): -0.95,\n",
       " ('uct', 'uct_score'): 7.62}"
      ]
     },
     "execution_count": 39,
     "metadata": {},
     "output_type": "execute_result"
    }
   ],
   "source": [
    "dict_mean_scores20 = load_pickle('dict_mean_scores20')\n",
    "dict_mean_scores20"
   ]
  },
  {
   "cell_type": "code",
   "execution_count": 58,
   "metadata": {},
   "outputs": [
    {
     "data": {
      "image/png": "[encoded data removed]",
      "text/plain": [
       "<Figure size 432x288 with 2 Axes>"
      ]
     },
     "metadata": {
      "needs_background": "light"
     },
     "output_type": "display_data"
    },
    {
     "data": {
      "image/png": "[encoded data removed]",
      "text/plain": [
       "<Figure size 432x288 with 2 Axes>"
      ]
     },
     "metadata": {
      "needs_background": "light"
     },
     "output_type": "display_data"
    }
   ],
   "source": [
    "list_strats = ['random', 'flat', 'flat_score', 'ucb', 'ucb_score', 'uct', 'uct_score'] \n",
    "plot_tab(res20, dict_mean_scores20, 100, 20, list_strats)"
   ]
  },
  {
   "cell_type": "markdown",
   "metadata": {},
   "source": [
    "## Comparaisons des stratégies pour 500 playouts (50 parties)"
   ]
  },
  {
   "cell_type": "code",
   "execution_count": 42,
   "metadata": {},
   "outputs": [
    {
     "data": {
      "text/html": [
       "<div>\n",
       "<style scoped>\n",
       "    .dataframe tbody tr th:only-of-type {\n",
       "        vertical-align: middle;\n",
       "    }\n",
       "\n",
       "    .dataframe tbody tr th {\n",
       "        vertical-align: top;\n",
       "    }\n",
       "\n",
       "    .dataframe thead th {\n",
       "        text-align: right;\n",
       "    }\n",
       "</style>\n",
       "<table border=\"1\" class=\"dataframe\">\n",
       "  <thead>\n",
       "    <tr style=\"text-align: right;\">\n",
       "      <th></th>\n",
       "      <th>flat</th>\n",
       "      <th>flat_score</th>\n",
       "      <th>ucb</th>\n",
       "      <th>ucb_score</th>\n",
       "      <th>uct</th>\n",
       "    </tr>\n",
       "  </thead>\n",
       "  <tbody>\n",
       "    <tr>\n",
       "      <th>flat</th>\n",
       "      <td>NaN</td>\n",
       "      <td>0.46</td>\n",
       "      <td>0.14</td>\n",
       "      <td>1.0</td>\n",
       "      <td>1.0</td>\n",
       "    </tr>\n",
       "    <tr>\n",
       "      <th>flat_score</th>\n",
       "      <td>0.52</td>\n",
       "      <td>NaN</td>\n",
       "      <td>0.18</td>\n",
       "      <td>0.98</td>\n",
       "      <td>1.0</td>\n",
       "    </tr>\n",
       "    <tr>\n",
       "      <th>ucb</th>\n",
       "      <td>0.84</td>\n",
       "      <td>0.82</td>\n",
       "      <td>NaN</td>\n",
       "      <td>1.0</td>\n",
       "      <td>1.0</td>\n",
       "    </tr>\n",
       "    <tr>\n",
       "      <th>ucb_score</th>\n",
       "      <td>0.0</td>\n",
       "      <td>0.02</td>\n",
       "      <td>0.0</td>\n",
       "      <td>NaN</td>\n",
       "      <td>0.82</td>\n",
       "    </tr>\n",
       "    <tr>\n",
       "      <th>uct</th>\n",
       "      <td>0.0</td>\n",
       "      <td>0.0</td>\n",
       "      <td>0.0</td>\n",
       "      <td>0.18</td>\n",
       "      <td>NaN</td>\n",
       "    </tr>\n",
       "  </tbody>\n",
       "</table>\n",
       "</div>"
      ],
      "text/plain": [
       "            flat flat_score   ucb ucb_score   uct\n",
       "flat         NaN       0.46  0.14       1.0   1.0\n",
       "flat_score  0.52        NaN  0.18      0.98   1.0\n",
       "ucb         0.84       0.82   NaN       1.0   1.0\n",
       "ucb_score    0.0       0.02   0.0       NaN  0.82\n",
       "uct          0.0        0.0   0.0      0.18   NaN"
      ]
     },
     "execution_count": 42,
     "metadata": {},
     "output_type": "execute_result"
    }
   ],
   "source": [
    "res500 = load_pickle('results500')\n",
    "res500"
   ]
  },
  {
   "cell_type": "code",
   "execution_count": 43,
   "metadata": {},
   "outputs": [
    {
     "data": {
      "text/plain": [
       "{('flat', 'flat_score'): 6.06,\n",
       " ('flat', 'ucb'): -5.6,\n",
       " ('flat', 'ucb_score'): 52.22,\n",
       " ('flat', 'uct'): 30.76,\n",
       " ('flat_score', 'ucb'): -21.78,\n",
       " ('flat_score', 'ucb_score'): 63.7,\n",
       " ('flat_score', 'uct'): 60.74,\n",
       " ('ucb', 'ucb_score'): 51.06,\n",
       " ('ucb', 'uct'): 34.04,\n",
       " ('ucb_score', 'uct'): 13.2}"
      ]
     },
     "execution_count": 43,
     "metadata": {},
     "output_type": "execute_result"
    }
   ],
   "source": [
    "dict_mean_scores500 = load_pickle('dict_mean_scores500')\n",
    "dict_mean_scores500"
   ]
  },
  {
   "cell_type": "code",
   "execution_count": 59,
   "metadata": {},
   "outputs": [
    {
     "data": {
      "image/png": "[encoded data removed]",
      "text/plain": [
       "<Figure size 432x288 with 2 Axes>"
      ]
     },
     "metadata": {
      "needs_background": "light"
     },
     "output_type": "display_data"
    },
    {
     "data": {
      "image/png": "[encoded data removed]",
      "text/plain": [
       "<Figure size 432x288 with 2 Axes>"
      ]
     },
     "metadata": {
      "needs_background": "light"
     },
     "output_type": "display_data"
    }
   ],
   "source": [
    "list_strats = ['flat', 'flat_score', 'ucb', 'ucb_score', 'uct'] \n",
    "plot_tab(res500, dict_mean_scores500, 50, 500, list_strats)"
   ]
  },
  {
   "cell_type": "code",
   "execution_count": 21,
   "metadata": {},
   "outputs": [
    {
     "data": {
      "application/vnd.plotly.v1+json": {
       "config": {
        "plotlyServerURL": "https://plot.ly"
       },
       "data": [
        {
         "name": "random",
         "type": "scatter",
         "x": [
          10,
          25,
          50,
          100,
          200,
          300,
          400,
          500
         ],
         "y": [
          1.85,
          -4.45,
          14.35,
          -5.85,
          11.8,
          -9.95,
          -4.6,
          -2.6
         ]
        },
        {
         "name": "flat",
         "type": "scatter",
         "x": [
          10,
          25,
          50,
          100,
          200,
          300,
          400,
          500
         ],
         "y": [
          13.2,
          12.9,
          20.2,
          24.5,
          27.4,
          38.8,
          34.4,
          32.65
         ]
        },
        {
         "name": "flat_score",
         "type": "scatter",
         "x": [
          10,
          25,
          50,
          100,
          200,
          300,
          400,
          500
         ],
         "y": [
          20.4,
          26.6,
          31.55,
          41.5,
          54.1,
          53.6,
          61.35,
          59.45
         ]
        },
        {
         "name": "ucb",
         "type": "scatter",
         "x": [
          10,
          25,
          50,
          100,
          200,
          300,
          400,
          500
         ],
         "y": [
          -8.95,
          15.6,
          29.45,
          25.85,
          33.05,
          34.25,
          41.45,
          43.8
         ]
        },
        {
         "name": "ucb_score",
         "type": "scatter",
         "x": [
          10,
          25,
          50,
          100,
          200,
          300,
          400,
          500
         ],
         "y": [
          -9.55,
          -8.75,
          -1.35,
          -6.35,
          2.95,
          -7.9,
          -6.65,
          -6.85
         ]
        },
        {
         "name": "uct",
         "type": "scatter",
         "x": [
          10,
          25,
          50,
          100,
          200,
          300,
          400,
          500
         ],
         "y": [
          7,
          1.85,
          14.15,
          12,
          23.5,
          20.4,
          28,
          28.35
         ]
        },
        {
         "name": "uct_score",
         "type": "scatter",
         "x": [
          10,
          25,
          50,
          100,
          200,
          300,
          400,
          500
         ],
         "y": [
          -12.3,
          -6,
          -17.3,
          -9.2,
          -4.3,
          -14.7,
          -8.4,
          -8.3
         ]
        }
       ],
       "layout": {
        "legend": {
         "title": {
          "text": "Strategies"
         }
        },
        "template": {
         "data": {
          "bar": [
           {
            "error_x": {
             "color": "#2a3f5f"
            },
            "error_y": {
             "color": "#2a3f5f"
            },
            "marker": {
             "line": {
              "color": "#E5ECF6",
              "width": 0.5
             },
             "pattern": {
              "fillmode": "overlay",
              "size": 10,
              "solidity": 0.2
             }
            },
            "type": "bar"
           }
          ],
          "barpolar": [
           {
            "marker": {
             "line": {
              "color": "#E5ECF6",
              "width": 0.5
             },
             "pattern": {
              "fillmode": "overlay",
              "size": 10,
              "solidity": 0.2
             }
            },
            "type": "barpolar"
           }
          ],
          "carpet": [
           {
            "aaxis": {
             "endlinecolor": "#2a3f5f",
             "gridcolor": "white",
             "linecolor": "white",
             "minorgridcolor": "white",
             "startlinecolor": "#2a3f5f"
            },
            "baxis": {
             "endlinecolor": "#2a3f5f",
             "gridcolor": "white",
             "linecolor": "white",
             "minorgridcolor": "white",
             "startlinecolor": "#2a3f5f"
            },
            "type": "carpet"
           }
          ],
          "choropleth": [
           {
            "colorbar": {
             "outlinewidth": 0,
             "ticks": ""
            },
            "type": "choropleth"
           }
          ],
          "contour": [
           {
            "colorbar": {
             "outlinewidth": 0,
             "ticks": ""
            },
            "colorscale": [
             [
              0,
              "#0d0887"
             ],
             [
              0.1111111111111111,
              "#46039f"
             ],
             [
              0.2222222222222222,
              "#7201a8"
             ],
             [
              0.3333333333333333,
              "#9c179e"
             ],
             [
              0.4444444444444444,
              "#bd3786"
             ],
             [
              0.5555555555555556,
              "#d8576b"
             ],
             [
              0.6666666666666666,
              "#ed7953"
             ],
             [
              0.7777777777777778,
              "#fb9f3a"
             ],
             [
              0.8888888888888888,
              "#fdca26"
             ],
             [
              1,
              "#f0f921"
             ]
            ],
            "type": "contour"
           }
          ],
          "contourcarpet": [
           {
            "colorbar": {
             "outlinewidth": 0,
             "ticks": ""
            },
            "type": "contourcarpet"
           }
          ],
          "heatmap": [
           {
            "colorbar": {
             "outlinewidth": 0,
             "ticks": ""
            },
            "colorscale": [
             [
              0,
              "#0d0887"
             ],
             [
              0.1111111111111111,
              "#46039f"
             ],
             [
              0.2222222222222222,
              "#7201a8"
             ],
             [
              0.3333333333333333,
              "#9c179e"
             ],
             [
              0.4444444444444444,
              "#bd3786"
             ],
             [
              0.5555555555555556,
              "#d8576b"
             ],
             [
              0.6666666666666666,
              "#ed7953"
             ],
             [
              0.7777777777777778,
              "#fb9f3a"
             ],
             [
              0.8888888888888888,
              "#fdca26"
             ],
             [
              1,
              "#f0f921"
             ]
            ],
            "type": "heatmap"
           }
          ],
          "heatmapgl": [
           {
            "colorbar": {
             "outlinewidth": 0,
             "ticks": ""
            },
            "colorscale": [
             [
              0,
              "#0d0887"
             ],
             [
              0.1111111111111111,
              "#46039f"
             ],
             [
              0.2222222222222222,
              "#7201a8"
             ],
             [
              0.3333333333333333,
              "#9c179e"
             ],
             [
              0.4444444444444444,
              "#bd3786"
             ],
             [
              0.5555555555555556,
              "#d8576b"
             ],
             [
              0.6666666666666666,
              "#ed7953"
             ],
             [
              0.7777777777777778,
              "#fb9f3a"
             ],
             [
              0.8888888888888888,
              "#fdca26"
             ],
             [
              1,
              "#f0f921"
             ]
            ],
            "type": "heatmapgl"
           }
          ],
          "histogram": [
           {
            "marker": {
             "pattern": {
              "fillmode": "overlay",
              "size": 10,
              "solidity": 0.2
             }
            },
            "type": "histogram"
           }
          ],
          "histogram2d": [
           {
            "colorbar": {
             "outlinewidth": 0,
             "ticks": ""
            },
            "colorscale": [
             [
              0,
              "#0d0887"
             ],
             [
              0.1111111111111111,
              "#46039f"
             ],
             [
              0.2222222222222222,
              "#7201a8"
             ],
             [
              0.3333333333333333,
              "#9c179e"
             ],
             [
              0.4444444444444444,
              "#bd3786"
             ],
             [
              0.5555555555555556,
              "#d8576b"
             ],
             [
              0.6666666666666666,
              "#ed7953"
             ],
             [
              0.7777777777777778,
              "#fb9f3a"
             ],
             [
              0.8888888888888888,
              "#fdca26"
             ],
             [
              1,
              "#f0f921"
             ]
            ],
            "type": "histogram2d"
           }
          ],
          "histogram2dcontour": [
           {
            "colorbar": {
             "outlinewidth": 0,
             "ticks": ""
            },
            "colorscale": [
             [
              0,
              "#0d0887"
             ],
             [
              0.1111111111111111,
              "#46039f"
             ],
             [
              0.2222222222222222,
              "#7201a8"
             ],
             [
              0.3333333333333333,
              "#9c179e"
             ],
             [
              0.4444444444444444,
              "#bd3786"
             ],
             [
              0.5555555555555556,
              "#d8576b"
             ],
             [
              0.6666666666666666,
              "#ed7953"
             ],
             [
              0.7777777777777778,
              "#fb9f3a"
             ],
             [
              0.8888888888888888,
              "#fdca26"
             ],
             [
              1,
              "#f0f921"
             ]
            ],
            "type": "histogram2dcontour"
           }
          ],
          "mesh3d": [
           {
            "colorbar": {
             "outlinewidth": 0,
             "ticks": ""
            },
            "type": "mesh3d"
           }
          ],
          "parcoords": [
           {
            "line": {
             "colorbar": {
              "outlinewidth": 0,
              "ticks": ""
             }
            },
            "type": "parcoords"
           }
          ],
          "pie": [
           {
            "automargin": true,
            "type": "pie"
           }
          ],
          "scatter": [
           {
            "fillpattern": {
             "fillmode": "overlay",
             "size": 10,
             "solidity": 0.2
            },
            "type": "scatter"
           }
          ],
          "scatter3d": [
           {
            "line": {
             "colorbar": {
              "outlinewidth": 0,
              "ticks": ""
             }
            },
            "marker": {
             "colorbar": {
              "outlinewidth": 0,
              "ticks": ""
             }
            },
            "type": "scatter3d"
           }
          ],
          "scattercarpet": [
           {
            "marker": {
             "colorbar": {
              "outlinewidth": 0,
              "ticks": ""
             }
            },
            "type": "scattercarpet"
           }
          ],
          "scattergeo": [
           {
            "marker": {
             "colorbar": {
              "outlinewidth": 0,
              "ticks": ""
             }
            },
            "type": "scattergeo"
           }
          ],
          "scattergl": [
           {
            "marker": {
             "colorbar": {
              "outlinewidth": 0,
              "ticks": ""
             }
            },
            "type": "scattergl"
           }
          ],
          "scattermapbox": [
           {
            "marker": {
             "colorbar": {
              "outlinewidth": 0,
              "ticks": ""
             }
            },
            "type": "scattermapbox"
           }
          ],
          "scatterpolar": [
           {
            "marker": {
             "colorbar": {
              "outlinewidth": 0,
              "ticks": ""
             }
            },
            "type": "scatterpolar"
           }
          ],
          "scatterpolargl": [
           {
            "marker": {
             "colorbar": {
              "outlinewidth": 0,
              "ticks": ""
             }
            },
            "type": "scatterpolargl"
           }
          ],
          "scatterternary": [
           {
            "marker": {
             "colorbar": {
              "outlinewidth": 0,
              "ticks": ""
             }
            },
            "type": "scatterternary"
           }
          ],
          "surface": [
           {
            "colorbar": {
             "outlinewidth": 0,
             "ticks": ""
            },
            "colorscale": [
             [
              0,
              "#0d0887"
             ],
             [
              0.1111111111111111,
              "#46039f"
             ],
             [
              0.2222222222222222,
              "#7201a8"
             ],
             [
              0.3333333333333333,
              "#9c179e"
             ],
             [
              0.4444444444444444,
              "#bd3786"
             ],
             [
              0.5555555555555556,
              "#d8576b"
             ],
             [
              0.6666666666666666,
              "#ed7953"
             ],
             [
              0.7777777777777778,
              "#fb9f3a"
             ],
             [
              0.8888888888888888,
              "#fdca26"
             ],
             [
              1,
              "#f0f921"
             ]
            ],
            "type": "surface"
           }
          ],
          "table": [
           {
            "cells": {
             "fill": {
              "color": "#EBF0F8"
             },
             "line": {
              "color": "white"
             }
            },
            "header": {
             "fill": {
              "color": "#C8D4E3"
             },
             "line": {
              "color": "white"
             }
            },
            "type": "table"
           }
          ]
         },
         "layout": {
          "annotationdefaults": {
           "arrowcolor": "#2a3f5f",
           "arrowhead": 0,
           "arrowwidth": 1
          },
          "autotypenumbers": "strict",
          "coloraxis": {
           "colorbar": {
            "outlinewidth": 0,
            "ticks": ""
           }
          },
          "colorscale": {
           "diverging": [
            [
             0,
             "#8e0152"
            ],
            [
             0.1,
             "#c51b7d"
            ],
            [
             0.2,
             "#de77ae"
            ],
            [
             0.3,
             "#f1b6da"
            ],
            [
             0.4,
             "#fde0ef"
            ],
            [
             0.5,
             "#f7f7f7"
            ],
            [
             0.6,
             "#e6f5d0"
            ],
            [
             0.7,
             "#b8e186"
            ],
            [
             0.8,
             "#7fbc41"
            ],
            [
             0.9,
             "#4d9221"
            ],
            [
             1,
             "#276419"
            ]
           ],
           "sequential": [
            [
             0,
             "#0d0887"
            ],
            [
             0.1111111111111111,
             "#46039f"
            ],
            [
             0.2222222222222222,
             "#7201a8"
            ],
            [
             0.3333333333333333,
             "#9c179e"
            ],
            [
             0.4444444444444444,
             "#bd3786"
            ],
            [
             0.5555555555555556,
             "#d8576b"
            ],
            [
             0.6666666666666666,
             "#ed7953"
            ],
            [
             0.7777777777777778,
             "#fb9f3a"
            ],
            [
             0.8888888888888888,
             "#fdca26"
            ],
            [
             1,
             "#f0f921"
            ]
           ],
           "sequentialminus": [
            [
             0,
             "#0d0887"
            ],
            [
             0.1111111111111111,
             "#46039f"
            ],
            [
             0.2222222222222222,
             "#7201a8"
            ],
            [
             0.3333333333333333,
             "#9c179e"
            ],
            [
             0.4444444444444444,
             "#bd3786"
            ],
            [
             0.5555555555555556,
             "#d8576b"
            ],
            [
             0.6666666666666666,
             "#ed7953"
            ],
            [
             0.7777777777777778,
             "#fb9f3a"
            ],
            [
             0.8888888888888888,
             "#fdca26"
            ],
            [
             1,
             "#f0f921"
            ]
           ]
          },
          "colorway": [
           "#636efa",
           "#EF553B",
           "#00cc96",
           "#ab63fa",
           "#FFA15A",
           "#19d3f3",
           "#FF6692",
           "#B6E880",
           "#FF97FF",
           "#FECB52"
          ],
          "font": {
           "color": "#2a3f5f"
          },
          "geo": {
           "bgcolor": "white",
           "lakecolor": "white",
           "landcolor": "#E5ECF6",
           "showlakes": true,
           "showland": true,
           "subunitcolor": "white"
          },
          "hoverlabel": {
           "align": "left"
          },
          "hovermode": "closest",
          "mapbox": {
           "style": "light"
          },
          "paper_bgcolor": "white",
          "plot_bgcolor": "#E5ECF6",
          "polar": {
           "angularaxis": {
            "gridcolor": "white",
            "linecolor": "white",
            "ticks": ""
           },
           "bgcolor": "#E5ECF6",
           "radialaxis": {
            "gridcolor": "white",
            "linecolor": "white",
            "ticks": ""
           }
          },
          "scene": {
           "xaxis": {
            "backgroundcolor": "#E5ECF6",
            "gridcolor": "white",
            "gridwidth": 2,
            "linecolor": "white",
            "showbackground": true,
            "ticks": "",
            "zerolinecolor": "white"
           },
           "yaxis": {
            "backgroundcolor": "#E5ECF6",
            "gridcolor": "white",
            "gridwidth": 2,
            "linecolor": "white",
            "showbackground": true,
            "ticks": "",
            "zerolinecolor": "white"
           },
           "zaxis": {
            "backgroundcolor": "#E5ECF6",
            "gridcolor": "white",
            "gridwidth": 2,
            "linecolor": "white",
            "showbackground": true,
            "ticks": "",
            "zerolinecolor": "white"
           }
          },
          "shapedefaults": {
           "line": {
            "color": "#2a3f5f"
           }
          },
          "ternary": {
           "aaxis": {
            "gridcolor": "white",
            "linecolor": "white",
            "ticks": ""
           },
           "baxis": {
            "gridcolor": "white",
            "linecolor": "white",
            "ticks": ""
           },
           "bgcolor": "#E5ECF6",
           "caxis": {
            "gridcolor": "white",
            "linecolor": "white",
            "ticks": ""
           }
          },
          "title": {
           "x": 0.05
          },
          "xaxis": {
           "automargin": true,
           "gridcolor": "white",
           "linecolor": "white",
           "ticks": "",
           "title": {
            "standoff": 15
           },
           "zerolinecolor": "white",
           "zerolinewidth": 2
          },
          "yaxis": {
           "automargin": true,
           "gridcolor": "white",
           "linecolor": "white",
           "ticks": "",
           "title": {
            "standoff": 15
           },
           "zerolinecolor": "white",
           "zerolinewidth": 2
          }
         }
        },
        "title": {
         "text": "Mean score per number of playouts for 20 games with different strategies against random"
        },
        "xaxis": {
         "title": {
          "text": "Number of playouts"
         }
        },
        "yaxis": {
         "title": {
          "text": "Mean score"
         }
        }
       }
      }
     },
     "metadata": {},
     "output_type": "display_data"
    }
   ],
   "source": [
    "fig.show()"
   ]
  },
  {
   "cell_type": "code",
   "execution_count": null,
   "metadata": {},
   "outputs": [],
   "source": [
    "print(f\"--- {((time.time() - start_time)/60):.2f} minutes ---\")"
   ]
  }
 ],
 "metadata": {
  "colab": {
   "collapsed_sections": [],
   "name": "Marrakech MCTS.ipynb",
   "provenance": []
  },
  "kernelspec": {
   "display_name": "Python 3 (ipykernel)",
   "language": "python",
   "name": "python3"
  },
  "language_info": {
   "codemirror_mode": {
    "name": "ipython",
    "version": 3
   },
   "file_extension": ".py",
   "mimetype": "text/x-python",
   "name": "python",
   "nbconvert_exporter": "python",
   "pygments_lexer": "ipython3",
   "version": "3.8.8"
  }
 },
 "nbformat": 4,
 "nbformat_minor": 4
}
