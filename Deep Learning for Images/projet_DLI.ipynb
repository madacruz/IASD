{
 "cells": [
  {
   "cell_type": "markdown",
   "id": "fbdf0b6d",
   "metadata": {},
   "source": [
    "# Deep learning for Images : projet de fin d'année"
   ]
  },
  {
   "cell_type": "markdown",
   "id": "ce40ea90",
   "metadata": {},
   "source": [
    "## 1 Contexte\n",
    "La reconnaissance faciale est un thème qui revient sur le devant de la scène en France (cf ce récent\n",
    "article dans Les Echos qui traite du débat de l’utilisation de la reconnaissance faciale en France,\n",
    "notamment dans le cadre des Jeux Olympiques de 2024(https://www.lesechos.fr/tech-medias/hightech/lexplosif-debat-sur-la-reconnaissance-faciale-relance-1407975)). En outre, bien que la reconnaissance faciale\n",
    "soit un domaine relativement ancien, le domaine des attaques adverses sur ces systèmes attire toujours\n",
    "de nombreuses études.\n",
    "\n",
    "Le but de votre projet sera de réaliser et d’évaluer un système d’attaque adverse dans le domaine de\n",
    "l’identification faciale, dans un contexte closed-set (i.e. on n’évaluera pas les modèles sur un jeu de\n",
    "données ’test’). Pour ce sujet, une attaque adverse consistera en la génération d’images visuellement\n",
    "très similaires aux images de la gallerie de training, mais parvenant à tromper le modèle et à réduire\n",
    "sa performance. Pour cela, vous devrez présenter et utiliser (au moins) deux modèles distincts :\n",
    "\n",
    "1. un classifieur C (qui sera par la suite le système à feindre/attaquer).\n",
    "2. un modèle adverse A qui viendra attaquer le classifieur C."
   ]
  },
  {
   "cell_type": "markdown",
   "id": "f869cecf",
   "metadata": {},
   "source": [
    "# 2 Ce qu’il vous est demandé\n",
    "Vous devrez rendre un rapport technique sous la forme d’un notebook auto-contenu (soit exporté en\n",
    "pdf, soit un fichier .ipynb, soit sous la forme d’un partage colab). Votre rapport devra répondre (ou\n",
    "discuter au moins) des questions suivantes :\n",
    "\n",
    "1. Entrainement d’un classifieur ad-hoc spécifiquement entraîné sur un dataset de visages (par exemple LFW), et la comparaison avec un classifieur pre-trained (par exemple VGG in keras). On attend également une discussion concernant l’évaluation de ces modèles.\n",
    "2. En ce qui concerne les attaques adverses, nous attendons à ce que les attaques soient visuellement non-discernables à l’oeil nu. Ceci implique une discussion autour des limites autorisées en termes de distances sur les images (norme infinie, L2, ou autre).\n",
    "3. Enfin, nous attendons également une discussion concernant l’évaluation de la qualité de ce modèle adverse A, ainsi qu’une comparaison de ces performances sur les modèles ad-hoc et pre-trained.\n",
    "\n",
    "Votre rapport sera un document scientifique, c’est-à-dire:\n",
    "\n",
    "    - qu’il devra être écrit dans un bon français ou anglais,\n",
    "    - que vous devrez articuler une vraie démarche de réflexion, présenter vos choix et idées,\n",
    "    - qu’il ne doit pas être une simple succession de blocs de code mais inclure des commentaires sur les principales expériences, sur vos choix, etc,\n",
    "    - qu’il contiendra un abstract (qui doit résumer votre travail en quelques lignes), une intro-duction (pour présenter la problématique, et les différentes solutions déployées) et une conclusion (qui doit résumer votre travail et vos principaux résultats).\n",
    "    \n",
    "En outre, on vous demandera de limiter votre travail à une trentaine de pages (ou équivalent si vous ne\n",
    "rendez pas un pdf). Cette consigne est là pour vous éviter de produire des rapports trop longs, moinsbien structurés, et pour vous amener plutôt à articuler une recherche plus réfléchie. Enfin, faites aussi\n",
    "attention à ne pas laisser de prints ou logs inutiles dans vos rapports (par exemple, montrez plutôt une\n",
    "courbe synthétisant l’évolution d’une training loss, plutôt que les prints de chaque époque)."
   ]
  },
  {
   "cell_type": "code",
   "execution_count": null,
   "id": "3658dc2c",
   "metadata": {},
   "outputs": [],
   "source": []
  },
  {
   "cell_type": "code",
   "execution_count": null,
   "id": "cb1c3a03",
   "metadata": {},
   "outputs": [],
   "source": []
  },
  {
   "cell_type": "code",
   "execution_count": null,
   "id": "a62cff8d",
   "metadata": {},
   "outputs": [],
   "source": []
  },
  {
   "cell_type": "code",
   "execution_count": null,
   "id": "ea9535b4",
   "metadata": {},
   "outputs": [],
   "source": []
  },
  {
   "cell_type": "code",
   "execution_count": null,
   "id": "47163e5b",
   "metadata": {},
   "outputs": [],
   "source": []
  },
  {
   "cell_type": "code",
   "execution_count": null,
   "id": "38849df2",
   "metadata": {},
   "outputs": [],
   "source": []
  }
 ],
 "metadata": {
  "kernelspec": {
   "display_name": "Python 3 (ipykernel)",
   "language": "python",
   "name": "python3"
  },
  "language_info": {
   "codemirror_mode": {
    "name": "ipython",
    "version": 3
   },
   "file_extension": ".py",
   "mimetype": "text/x-python",
   "name": "python",
   "nbconvert_exporter": "python",
   "pygments_lexer": "ipython3",
   "version": "3.8.8"
  }
 },
 "nbformat": 4,
 "nbformat_minor": 5
}
