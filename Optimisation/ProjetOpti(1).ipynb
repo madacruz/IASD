{
 "cells": [
  {
   "cell_type": "code",
   "execution_count": null,
   "metadata": {
    "id": "5dqNuh_KoHqy"
   },
   "outputs": [],
   "source": [
    "%matplotlib inline\n",
    "import matplotlib.pyplot as plt\n",
    "\n",
    "from numba import njit, jit, jitclass  #A just in time compiler to accelerate the calculation\n",
    "\n",
    "from math import sqrt # Square root\n",
    "\n",
    "# NumPy - Matrix and vector structures\n",
    "import numpy as np # NumPy library\n",
    "from numpy.random import multivariate_normal, randn # Probability distributions on vectors\n",
    "\n",
    "# SciPy - Efficient mathematical calculation\n",
    "from scipy.linalg.special_matrices import toeplitz # A special kind of matrices"
   ]
  },
  {
   "cell_type": "markdown",
   "metadata": {
    "id": "h8KTQDC9BaPX"
   },
   "source": [
    "**Newton’s** **method** "
   ]
  },
  {
   "cell_type": "code",
   "execution_count": null,
   "metadata": {
    "id": "Uft_VD0Cnexo"
   },
   "outputs": [],
   "source": [
    "def Newton_iteration(grad, second_grad, w_k):\n",
    "  inv_sec_grad = np.linalg.inv(second_grad)\n",
    "  w = w_k - np.dot(inv_sec_grad, grad)\n",
    "  return w\n"
   ]
  },
  {
   "cell_type": "markdown",
   "metadata": {
    "id": "cxZGXYxvrGZd"
   },
   "source": [
    "Question 1.2 \\\\\n",
    "Après calcul, nous avons trouvé que $ \\nabla f \\begin{pmatrix}\n",
    "w_1  \\\\\n",
    "w_2  \\\\\n",
    "w_3\n",
    "\\end{pmatrix} ~= \\begin{pmatrix}\n",
    "6w_1 +2w_2 +4w_3 -12 \\\\\n",
    "2w_1 +8w_2 +2w_3 -12 \\\\\n",
    "4w_1 2w_2 +6w_3 -12 \n",
    "\\end{pmatrix}$\n",
    "\n",
    "et que $ \\nabla ^2 f \\begin{pmatrix}\n",
    "w_1  \\\\\n",
    "w_2  \\\\\n",
    "w_3\n",
    "\\end{pmatrix} ~= \\begin{pmatrix}\n",
    "6 & 2 & 4 \\\\\n",
    "2 & 8 & 2 \\\\\n",
    "4 & 2 & 6 \n",
    "\\end{pmatrix}$\n",
    "\n"
   ]
  },
  {
   "cell_type": "code",
   "execution_count": null,
   "metadata": {
    "id": "dpXEUUuTqAgP"
   },
   "outputs": [],
   "source": [
    "def Newton(fonc, w_0, w_star, eps):\n",
    "  w_k = w_0\n",
    "  val = fonc()\n",
    "  delta = 1\n",
    "  D = []\n",
    "  while (delta > eps):\n",
    "    w_k = Newton_iteration(val.grad(w_k), val.second(w_k), w_k)\n",
    "    delta = np.linalg.norm(w_k - w_star)\n",
    "    D.append(delta)\n",
    "  return w_k, D"
   ]
  },
  {
   "cell_type": "code",
   "execution_count": null,
   "metadata": {
    "id": "AUQhjg_svsba"
   },
   "outputs": [],
   "source": [
    "class q :\n",
    "  def q(self, w):\n",
    "      return 2*(w[0]+w[1]+w[2]-3)**2+(w[0]-w[1])**2+(w[1]-w[2])**2\n",
    "\n",
    "  def grad(self, w):\n",
    "      grad = np.zeros(3)\n",
    "      grad[0]=6*w[0]+2*w[1]+4*w[2]-12\n",
    "      grad[1]=2*w[0]+8*w[1]+2*w[2]-12\n",
    "      grad[2]=4*w[0]+2*w[1]+6*w[2]-12\n",
    "      return grad\n",
    "\n",
    "  def second(self, w):\n",
    "      M = np.zeros((3,3))\n",
    "      M[0,0] = 6\n",
    "      M[0,1] = 2\n",
    "      M[0,2] = 4\n",
    "      M[1,0] = 2\n",
    "      M[1,1] = 8\n",
    "      M[1,2] = 2\n",
    "      M[2,0] = 4\n",
    "      M[2,1] = 2\n",
    "      M[2,2] = 6\n",
    "      return M"
   ]
  },
  {
   "cell_type": "code",
   "execution_count": null,
   "metadata": {
    "colab": {
     "base_uri": "https://localhost:8080/"
    },
    "id": "n5bsVJ3WGd6k",
    "outputId": "f4f527b0-de74-45f8-97cd-44dd32710581"
   },
   "outputs": [
    {
     "name": "stdout",
     "output_type": "stream",
     "text": [
      "[4.965068306494546e-16]\n",
      "[3.3886545724136286e-14]\n",
      "[6.961868572213853e-14]\n"
     ]
    }
   ],
   "source": [
    "w_0_origin = np.zeros(3)\n",
    "w_0_1 = np.array([100,-0.1, -11])\n",
    "w_0_2 = np.array([-100,-200, -50])\n",
    "\n",
    "sol, D = Newton(q, w_0_origin, np.ones(3), 0.0001)\n",
    "print(D)\n",
    "sol, D = Newton(q, w_0_1, np.ones(3), 0.0001)\n",
    "print(D)\n",
    "sol, D = Newton(q, w_0_2, np.ones(3), 0.0001)\n",
    "print(D)\n",
    "#Pour un précision de 10e-4 l'algorithme n'a eu besoin d'une seul itération pour converger peu importe le point de départ"
   ]
  },
  {
   "cell_type": "markdown",
   "metadata": {
    "id": "vP75NWG4GihP"
   },
   "source": [
    "1.1) La méthode a atteint une précision de $10^{-4}$ en une itération pour les 3 point d'origine testé.\n",
    "\n"
   ]
  },
  {
   "cell_type": "code",
   "execution_count": null,
   "metadata": {
    "id": "sHyZioOE3f36"
   },
   "outputs": [],
   "source": [
    "class rosenbrock:\n",
    "  def q(self, w):\n",
    "      return 100*(w[1]-w[0]**2)**2+(1-w[0])**2\n",
    "\n",
    "  def grad(self, w):\n",
    "      grad = np.zeros(2)\n",
    "      grad[0]= 2*w[0]-2+400*w[0]**3-400*w[0]*w[1]\n",
    "      grad[1]= -200 * w[0]**2 + 200 * w[1]\n",
    "      return grad\n",
    "\n",
    "  def second(self, w):\n",
    "      M = np.zeros((2,2))\n",
    "      M[0,0] = 2 + 1200 * w[0]**2 - 400 * w[1]\n",
    "      M[0,1] = - 400 * w[0]\n",
    "      M[1,0] = -400 * w[0]\n",
    "      M[1,1] = 200\n",
    "      return M\n"
   ]
  },
  {
   "cell_type": "code",
   "execution_count": null,
   "metadata": {
    "colab": {
     "base_uri": "https://localhost:8080/"
    },
    "id": "QTywFMWvGQ7c",
    "outputId": "1e56c155-e914-4c53-afe4-95b764f1c345"
   },
   "outputs": [
    {
     "name": "stdout",
     "output_type": "stream",
     "text": [
      "[1.0, 2.220446049250313e-16]\n",
      "[2.2083386975405683, 4.1817487074842346, 0.479583866255296, 0.05597267634318109, 9.624794562547852e-06]\n"
     ]
    }
   ],
   "source": [
    "w_0_origin = np.zeros(2)\n",
    "sol , D = Newton(rosenbrock, w_0_origin, np.ones(2), 0.0001)\n",
    "print(D)\n",
    "\n",
    "w_0_1 = np.array([-1.2,1])\n",
    "w_0_2 = np.array([0, 1/200 + 10e-12])\n",
    "\n",
    "sol , D = Newton(rosenbrock, w_0_1, np.ones(2), 0.001)\n",
    "print(D)\n",
    "\n",
    "#sol , D = Newton(rosenbrock, w_0_2, np.ones(2), 0.001)\n",
    "#Pour w_0_2 , w ne convergent pas vers la solution qui est (1,1)"
   ]
  },
  {
   "cell_type": "markdown",
   "metadata": {
    "id": "DASIp803AKIO"
   },
   "source": [
    "1.2) La méthode de Newton ne converge pas dans tout les cas, elle est très dépendante de l'initialisation\n"
   ]
  },
  {
   "cell_type": "markdown",
   "metadata": {
    "id": "8zqbbDuxBfgB"
   },
   "source": [
    "**Newton Like Part 1.2**"
   ]
  },
  {
   "cell_type": "code",
   "execution_count": null,
   "metadata": {
    "id": "CpA_lhTWAfYL"
   },
   "outputs": [],
   "source": [
    "def get_lambda(A):\n",
    "  lambda_min = np.linalg.eigvals(A)[0]\n",
    "  lambda_k = 2*max(0.001, -lambda_min)         #Ne marche pas avec 0.\n",
    "  return lambda_k\n",
    "\n",
    "\n",
    "def get_alpha_Armijo(teta, f, w, c, d):   \n",
    "  i = 1\n",
    "  alpha = teta \n",
    "  while (f.q(w+alpha*d)<f.q(w)+c*alpha*np.dot(d, f.grad(w))): #f.grad déja calcul aurait pu être évité, répétition pa spris en compte pour 1.5\n",
    "    i += 1\n",
    "    alpha = teta ** i\n",
    "  return teta ** (i-1) \n",
    "\n",
    "\n",
    "def Newton_like_ite(f, grad, second_grad, w_k , c, teta):\n",
    "  Lambda = get_lambda(second_grad)\n",
    "  inv = np.linalg.inv((second_grad + Lambda * np.eye(second_grad.shape[0])))\n",
    "  d = -np.dot(inv, grad)\n",
    "  alpha = get_alpha_Armijo(teta, f, w_k, c, -d)\n",
    "  w = w_k + alpha * d\n",
    "  global Fonc_Newton\n",
    "  global Grad_Newton\n",
    "  Fonc_Newton += 2\n",
    "  Grad_Newton += 1\n",
    "  return w\n",
    "\n",
    "def Newton_like(fonc, w_0, w_star, c, teta, eps):\n",
    "  w_k = w_0\n",
    "  val = fonc()\n",
    "  delta = 1\n",
    "  D = []\n",
    "  while (delta > eps):\n",
    "    w_k = Newton_like_ite(val, val.grad(w_k), val.second(w_k) ,w_k ,c ,teta)\n",
    "    delta = np.linalg.norm(w_k - w_star)\n",
    "    D.append(delta)\n",
    "    global Ite_Newton\n",
    "    Ite_Newton += 1\n",
    "    #print(delta)\n",
    "  return w_k, D\n",
    "\n"
   ]
  },
  {
   "cell_type": "code",
   "execution_count": null,
   "metadata": {
    "id": "sZD1Tfc5_JLD"
   },
   "outputs": [],
   "source": [
    "w_0_1 = np.array([-1.2,1.1])\n",
    "w_0_2 = np.array([0, 1/200 + 10e-12])\n",
    "sol , D = Newton_like(rosenbrock, w_0_1, np.ones(2),  0.0001, 0.5, 0.001)\n",
    "sol , D = Newton_like(rosenbrock, w_0_2, np.ones(2),  0.000001, 0.8, 0.001)\n",
    "#print(sol)"
   ]
  },
  {
   "cell_type": "markdown",
   "metadata": {
    "id": "tFirhxuiM7vE"
   },
   "source": [
    "Aucune valeur testé pour c et téta n'ont fait convergé avec la formule $λ_k = 2max(0, -λ_{min} (∇^2f(w_k)))$ par contre la méthode marche pour  $λ_k = 2max(0.001, -λ_{min} (∇^2f(w_k)))$. Je n'y vois pas d'explications"
   ]
  },
  {
   "cell_type": "markdown",
   "metadata": {
    "id": "5izqlDl6GSyw"
   },
   "source": [
    "**BGFS**"
   ]
  },
  {
   "cell_type": "code",
   "execution_count": null,
   "metadata": {
    "id": "oqAxUl61FcZA"
   },
   "outputs": [],
   "source": [
    "def BFGS_ite(f, grad, H, w_k, c, teta):\n",
    "  d = np.dot(H, grad)\n",
    "  alpha = get_alpha_Armijo(teta, f, w_k, c, d)\n",
    "  #print(alpha)\n",
    "  w = w_k -  alpha*np.dot(H, grad)\n",
    "  s_k = w - w_k\n",
    "  v_k = f.grad(w) - grad\n",
    "  global Grad_BFGS \n",
    "  global Fonc_BFGS \n",
    "  Grad_BFGS += 2\n",
    "  Fonc_BFGS += 2\n",
    "  \n",
    "  if np.dot(s_k, v_k)>0:\n",
    "    v_k = v_k.reshape((w_k.shape[0],1))\n",
    "    s_k = s_k.reshape((1,w_k.shape[0]))\n",
    "    l = np.eye(grad.shape[0])- (np.matmul(v_k,s_k))/np.dot(s_k, v_k)[0,0]\n",
    "    H = l.T @ H @ l + (s_k.T @ s_k)/np.dot(s_k, v_k)[0,0]\n",
    "  return w, H\n",
    "\n",
    "def BFGS(fonc, w_0, w_star, eps, c, teta):\n",
    "  w_k = w_0\n",
    "  val = fonc()\n",
    "  delta = 1 \n",
    "  D = []\n",
    "  H = np.eye(w_0.shape[0])\n",
    "  while (delta > eps):\n",
    "    w_k, H = BFGS_ite(val, val.grad(w_k), H ,w_k ,c ,teta)\n",
    "    global Ite_BFGS\n",
    "    Ite_BFGS += 1\n",
    "    \n",
    "    delta = np.linalg.norm(w_k - w_star)\n",
    "    D.append(delta)\n",
    "  return w_k, D\n",
    "\n"
   ]
  },
  {
   "cell_type": "code",
   "execution_count": null,
   "metadata": {
    "colab": {
     "base_uri": "https://localhost:8080/"
    },
    "id": "442VVnJEOjw8",
    "outputId": "068d9712-a352-4ad7-e695-7c4f45f8fff4"
   },
   "outputs": [
    {
     "name": "stdout",
     "output_type": "stream",
     "text": [
      "[0.99996648 0.99992655]\n",
      "[0.9998201  0.99958722]\n"
     ]
    }
   ],
   "source": [
    "w_0_origin = np.zeros(2)\n",
    "sol , D = BFGS(rosenbrock, w_0_origin, np.ones(2), 0.001, 0.0001, 0.5)\n",
    "print(sol)\n",
    "\n",
    "w_0_1 = np.array([-1.2,1])\n",
    "w_0_2 = np.array([0, 1/200 + 10e-12])\n",
    "sol , D = BFGS(rosenbrock, w_0_1, np.ones(2), 0.001, 0.0001, 0.5)\n",
    "print(sol)\n"
   ]
  },
  {
   "cell_type": "code",
   "execution_count": null,
   "metadata": {
    "colab": {
     "base_uri": "https://localhost:8080/"
    },
    "id": "XCUCLN2hQ2L_",
    "outputId": "8b2ab650-c127-4f2e-a10e-91ea02c02d3c"
   },
   "outputs": [
    {
     "name": "stdout",
     "output_type": "stream",
     "text": [
      "Comparaison Quasi-Newton et BFGS sur Rosenbrock \n",
      "\n",
      "BFGS -> initialisation : [0. 0.]  résultat: Ite: 45 , Fonction Eval: 90 , grad eval : 90\n",
      "Newton -> initialisation : [0. 0.]  résultat: Ite: 3 , Fonction Eval: 6 , grad eval : 3 , Hess eval: 6\n",
      "\n",
      "\n",
      "BFGS -> initialisation : [-1.2  1. ]  résultat: Ite: 94 , Fonction Eval: 188 , grad eval : 188\n",
      "Newton -> initialisation : [-1.2  1. ]  résultat: Ite: 6 , Fonction Eval: 12 , grad eval : 6 , Hess eval: 12\n",
      "\n",
      "\n",
      "BFGS -> initialisation : [0.    0.005]  résultat: Ite: 48 , Fonction Eval: 96 , grad eval : 96\n",
      "Newton -> initialisation : [0.    0.005]  résultat: Ite: 2216 , Fonction Eval: 4432 , grad eval : 2216 , Hess eval: 4432\n"
     ]
    }
   ],
   "source": [
    "# BFGS - QuasiNewton -> Rosenrock\n",
    "Ite_BFGS = 0 \n",
    "Fonc_BFGS = 0\n",
    "Grad_BFGS = 0\n",
    "Ite_Newton = 0 \n",
    "Fonc_Newton = 0\n",
    "Grad_Newton = 0\n",
    "\n",
    "print(\"Comparaison Quasi-Newton et BFGS sur Rosenbrock \\n\")\n",
    "\n",
    "w_0_origin = np.zeros(2)\n",
    "sol , D = BFGS(rosenbrock, w_0_origin, np.ones(2), 0.001, 0.0001, 0.5)\n",
    "print(\"BFGS -> initialisation :\", w_0_origin, \" résultat: Ite:\", Ite_BFGS, \", Fonction Eval:\", Fonc_BFGS, \", grad eval :\", Grad_BFGS )\n",
    "sol , D = Newton_like(rosenbrock, w_0_origin, np.ones(2),  0.0001, 0.5, 0.001)\n",
    "print(\"Newton -> initialisation :\", w_0_origin, \" résultat: Ite:\", Ite_Newton, \", Fonction Eval:\", Fonc_Newton, \", grad eval :\", Grad_Newton, \", Hess eval:\", 2*Grad_Newton  )\n",
    "\n",
    "print(\"\\n\")\n",
    "w_0_1 = np.array([-1.2,1])\n",
    "Ite_BFGS = 0 \n",
    "Fonc_BFGS = 0\n",
    "Grad_BFGS = 0\n",
    "Ite_Newton = 0 \n",
    "Fonc_Newton = 0\n",
    "Grad_Newton = 0\n",
    "sol , D = BFGS(rosenbrock, w_0_1, np.ones(2), 0.001, 0.0001, 0.5)\n",
    "print(\"BFGS -> initialisation :\", w_0_1, \" résultat: Ite:\", Ite_BFGS, \", Fonction Eval:\", Fonc_BFGS, \", grad eval :\", Grad_BFGS )\n",
    "sol , D = Newton_like(rosenbrock, w_0_1, np.ones(2),  0.0001, 0.5, 0.001)\n",
    "print(\"Newton -> initialisation :\", w_0_1, \" résultat: Ite:\", Ite_Newton, \", Fonction Eval:\", Fonc_Newton, \", grad eval :\", Grad_Newton, \", Hess eval:\", 2*Grad_Newton  )\n",
    "\n",
    "\n",
    "w_0_2 = np.array([0, 1/200 + 10e-12])\n",
    "print(\"\\n\")\n",
    "Ite_BFGS = 0 \n",
    "Fonc_BFGS = 0\n",
    "Grad_BFGS = 0\n",
    "Ite_Newton = 0 \n",
    "Fonc_Newton = 0\n",
    "Grad_Newton = 0\n",
    "sol , D = BFGS(rosenbrock, w_0_2, np.ones(2), 0.001, 0.0001, 0.5)\n",
    "print(\"BFGS -> initialisation :\", w_0_2, \" résultat: Ite:\", Ite_BFGS, \", Fonction Eval:\", Fonc_BFGS, \", grad eval :\", Grad_BFGS )\n",
    "sol , D = Newton_like(rosenbrock, w_0_2, np.ones(2),  0.0001, 0.5, 0.001)\n",
    "print(\"Newton -> initialisation :\", w_0_2, \" résultat: Ite:\", Ite_Newton, \", Fonction Eval:\", Fonc_Newton, \", grad eval :\", Grad_Newton, \", Hess eval:\", 2*Grad_Newton  )"
   ]
  },
  {
   "cell_type": "code",
   "execution_count": null,
   "metadata": {
    "colab": {
     "base_uri": "https://localhost:8080/"
    },
    "id": "QRKlgNRbVkZQ",
    "outputId": "0245f59f-c715-47bb-9171-5acfbe17646f"
   },
   "outputs": [
    {
     "name": "stdout",
     "output_type": "stream",
     "text": [
      "Comparaison Quasi-Newton et BFGS sur q \n",
      "\n",
      "BFGS -> initialisation : [0. 0. 0.]  résultat: Ite: 2 , Fonction Eval: 4 , grad eval : 4\n",
      "Newton -> initialisation : [0. 0. 0.]  résultat: Ite: 1 , Fonction Eval: 2 , grad eval : 1 , Hess eval: 3\n",
      "\n",
      "\n",
      "BFGS -> initialisation : [100.   -0.1 -11. ]  résultat: Ite: 7 , Fonction Eval: 14 , grad eval : 14\n",
      "Newton -> initialisation : [100.   -0.1 -11. ]  résultat: Ite: 2 , Fonction Eval: 4 , grad eval : 2 , Hess eval: 6\n",
      "\n",
      "\n",
      "BFGS -> initialisation : [-100 -200  -50]  résultat: Ite: 6 , Fonction Eval: 12 , grad eval : 12\n",
      "Newton -> initialisation : [-100 -200  -50]  résultat: Ite: 2 , Fonction Eval: 4 , grad eval : 2 , Hess eval: 6\n"
     ]
    }
   ],
   "source": [
    "# BFGS - QuasiNewton -> q\n",
    "Ite_BFGS = 0 \n",
    "Fonc_BFGS = 0\n",
    "Grad_BFGS = 0\n",
    "Ite_Newton = 0 \n",
    "Fonc_Newton = 0\n",
    "Grad_Newton = 0\n",
    "\n",
    "print(\"Comparaison Quasi-Newton et BFGS sur q \\n\")\n",
    "\n",
    "w_0_origin = np.zeros(3)\n",
    "sol , D = BFGS(q, w_0_origin, np.ones(3), 0.001, 0.0001, 0.5)\n",
    "print(\"BFGS -> initialisation :\", w_0_origin, \" résultat: Ite:\", Ite_BFGS, \", Fonction Eval:\", Fonc_BFGS, \", grad eval :\", Grad_BFGS )\n",
    "sol , D = Newton_like(q, w_0_origin, np.ones(3),  0.0001, 0.5, 0.001)\n",
    "print(\"Newton -> initialisation :\", w_0_origin, \" résultat: Ite:\", Ite_Newton, \", Fonction Eval:\", Fonc_Newton, \", grad eval :\", Grad_Newton, \", Hess eval:\", 3*Grad_Newton  )\n",
    "\n",
    "print(\"\\n\")\n",
    "w_0_1 = np.array([100, -0.1, -11])\n",
    "Ite_BFGS = 0 \n",
    "Fonc_BFGS = 0\n",
    "Grad_BFGS = 0\n",
    "Ite_Newton = 0 \n",
    "Fonc_Newton = 0\n",
    "Grad_Newton = 0\n",
    "sol , D = BFGS(q, w_0_1, np.ones(3), 0.001, 0.0001, 0.5)\n",
    "print(\"BFGS -> initialisation :\", w_0_1, \" résultat: Ite:\", Ite_BFGS, \", Fonction Eval:\", Fonc_BFGS, \", grad eval :\", Grad_BFGS )\n",
    "sol , D = Newton_like(q, w_0_1, np.ones(3),  0.0001, 0.5, 0.001)\n",
    "print(\"Newton -> initialisation :\", w_0_1, \" résultat: Ite:\", Ite_Newton, \", Fonction Eval:\", Fonc_Newton, \", grad eval :\", Grad_Newton, \", Hess eval:\", 3*Grad_Newton  )\n",
    "\n",
    "\n",
    "w_0_2 = np.array([-100,-200, -50])\n",
    "print(\"\\n\")\n",
    "Ite_BFGS = 0 \n",
    "Fonc_BFGS = 0\n",
    "Grad_BFGS = 0\n",
    "Ite_Newton = 0 \n",
    "Fonc_Newton = 0\n",
    "Grad_Newton = 0\n",
    "sol , D = BFGS(q, w_0_2, np.ones(3), 0.001, 0.0001, 0.5)\n",
    "print(\"BFGS -> initialisation :\", w_0_2, \" résultat: Ite:\", Ite_BFGS, \", Fonction Eval:\", Fonc_BFGS, \", grad eval :\", Grad_BFGS )\n",
    "sol , D = Newton_like(q, w_0_2, np.ones(3),  0.0001, 0.5, 0.001)\n",
    "print(\"Newton -> initialisation :\", w_0_2, \" résultat: Ite:\", Ite_Newton, \", Fonction Eval:\", Fonc_Newton, \", grad eval :\", Grad_Newton, \", Hess eval:\", 3*Grad_Newton  )"
   ]
  },
  {
   "cell_type": "code",
   "execution_count": null,
   "metadata": {
    "colab": {
     "base_uri": "https://localhost:8080/"
    },
    "id": "0sphBqmGKUST",
    "outputId": "24ae5500-d449-4720-adf0-130d02d72299"
   },
   "outputs": [
    {
     "name": "stdout",
     "output_type": "stream",
     "text": [
      "[1.00019214 1.00033922]\n"
     ]
    },
    {
     "name": "stderr",
     "output_type": "stream",
     "text": [
      "/usr/local/lib/python3.7/dist-packages/ipykernel_launcher.py:15: RuntimeWarning: overflow encountered in matmul\n",
      "  from ipykernel import kernelapp as app\n",
      "/usr/local/lib/python3.7/dist-packages/ipykernel_launcher.py:16: RuntimeWarning: invalid value encountered in matmul\n",
      "  app.launch_new_instance()\n"
     ]
    }
   ],
   "source": [
    "def BFGS_limited_ite(f, grad, H, s, v, m, w_k, c, teta):\n",
    "  d = np.dot(H, grad)\n",
    "  alpha = get_alpha_Armijo(teta, f, w_k, c, d)\n",
    "\n",
    "  w = w_k -  alpha*np.dot(H, grad)\n",
    "  s_k = w - w_k\n",
    "  v_k = f.grad(w) - grad\n",
    "  s.append(s_k)\n",
    "  v.append(v_k)\n",
    "\n",
    "  H = np.eye(H.shape[0])\n",
    "  if m == 0 :\n",
    "    v_k = v_k.reshape((2,1))\n",
    "    s_k = s_k.reshape((1,2))\n",
    "    l = np.eye(grad.shape[0])- (np.matmul(v_k,s_k))/np.dot(s_k, v_k)[0,0]\n",
    "    H = l.T @ H @ l + (s_k.T @ s_k)/np.dot(s_k, v_k)[0,0]\n",
    "  \n",
    "  else : \n",
    "    for k in reversed(range(m)):\n",
    "      if(len(v)-k-1)>=0:\n",
    "        v_k = v[len(v)-k-1].reshape((2,1))\n",
    "        s_k = s[len(s)-k-1].reshape((1,2))\n",
    "        if np.dot(s_k, v_k)>0:\n",
    "          l = np.eye(grad.shape[0])- (np.matmul(v_k,s_k))/np.dot(s_k, v_k)[0,0]\n",
    "          H = l.T @ H @ l + (s_k.T @ s_k)/np.dot(s_k, v_k)[0,0]\n",
    "  return w, H\n",
    "\n",
    "\n",
    "def BFGS_limited(fonc, w_0, w_star,m, eps, c, teta):\n",
    "  w_k = w_0\n",
    "  val = fonc()\n",
    "  delta = 1 \n",
    "  D = []\n",
    "  s = []\n",
    "  v = []\n",
    "  H = np.eye(w_0.shape[0])\n",
    "  while (delta > eps):\n",
    "    w_k, H = BFGS_limited_ite(val, val.grad(w_k), H, s, v, m ,w_k ,c ,teta)\n",
    "    delta = np.linalg.norm(w_k - w_star)\n",
    "    D.append(delta)\n",
    "  return w_k, D\n",
    "\n",
    "\n",
    "\n",
    "w_0_1 = np.array([-1.2,1])\n",
    "\n",
    "sol , D = BFGS_limited(rosenbrock, w_0_1, np.ones(2), 7, 0.001, 0.0001, 0.5)\n",
    "sol , D = BFGS_limited(rosenbrock, w_0_1, np.ones(2), 5, 0.001, 0.0001, 0.5)\n",
    "print(sol)\n",
    "sol , D = BFGS_limited(rosenbrock, w_0_1, np.ones(2), 0, 0.001, 0.0001, 0.5)\n",
    "#sol , D = BFGS_limited(rosenbrock, w_0_1, np.ones(2), 1, 0.001, 0.0001, 0.5)"
   ]
  },
  {
   "cell_type": "markdown",
   "metadata": {
    "id": "orUrJd2_ZB3P"
   },
   "source": [
    "L_BFGS ne converge pas pour des petites valeurs de m"
   ]
  },
  {
   "cell_type": "markdown",
   "metadata": {
    "id": "z62g7bDK4E0a"
   },
   "source": [
    "**stochastic method**"
   ]
  },
  {
   "cell_type": "code",
   "execution_count": null,
   "metadata": {
    "id": "nwbWF17i3mP_"
   },
   "outputs": [],
   "source": [
    "class f:\n",
    "  def q(self, lam, w, X, y, Index_grad):\n",
    "    v = 0\n",
    "    for i in Index_grad:\n",
    "      X[i] = np.array(X[i])\n",
    "      f_i = np.log(1+np.exp(-y[i]*np.dot(X[i], w))) + lam/2 * np.linalg.norm(w)\n",
    "      v += f_i\n",
    "    return v/len(Index_grad)\n",
    "\n",
    "  def stoch_grad_i(self, i, lam, w, X, y):\n",
    "    X[i] = np.array(X[i])\n",
    "    grad = - (y[i]/(1+np.exp(y[i] *np.dot(X[i], w)))) * X[i] + lam * w\n",
    "    return grad\n",
    "\n",
    "  def stoch_second_i(self, i, lam, w, X, y): \n",
    "    X[i] = np.array(X[i])\n",
    "    s = X[i].reshape((1,2))\n",
    "    Hess = np.exp(y[i] *np.dot(X[i], w)) /(1+np.exp(y[i] *np.dot(X[i], w))) * np.matmul(X[i].reshape((2,1)),s)\n",
    "    return Hess\n",
    "\n",
    "  def stoch_grad(self, lam, w, Index_grad, X,y):\n",
    "      f_i_grad = [self.stoch_grad_i(i, lam, w, X,y) for i in Index_grad]\n",
    "      return np.mean(f_i_grad, axis = 0)\n",
    "\n",
    "  def stoch_second(self, lam, w, Index_sec, X,y):\n",
    "      f_i_sec = [self.stoch_second_i(i, lam, w ,X,y) for i in Index_sec]\n",
    "      return np.mean(f_i_sec, axis = 0)\n",
    "\n"
   ]
  },
  {
   "cell_type": "code",
   "execution_count": null,
   "metadata": {
    "id": "V4hXqa9u4L3h"
   },
   "outputs": [],
   "source": [
    "def get_alpha_Armijo_stoch(teta, f, w, c, d, lam, X,y, Index_grad):\n",
    "  i = 1\n",
    "  alpha = teta \n",
    "  while (f.q(lam, w+alpha*d, X, y, Index_grad )< f.q(lam, w, X, y, Index_grad )+c*alpha*np.dot(d, f.stoch_grad(lam, w, Index_grad, X,y))):\n",
    "    i += 1\n",
    "    alpha = teta ** i\n",
    "  return teta ** (i-1)\n",
    "\n",
    "\n",
    "def stoch_new_ite(X, y, Index_grad, f, grad, second_grad, w_k, method, c, teta, a, lam):\n",
    "  inv = np.linalg.inv(second_grad)\n",
    "  d = np.dot(inv, grad)\n",
    "  if method == \"armijo\": \n",
    "    alpha = get_alpha_Armijo_stoch(teta, f, w_k, c, d, lam, X,y, Index_grad)\n",
    "    #print(\"alpha =\", alpha)\n",
    "  if method == \"constant\" : \n",
    "    alpha = a\n",
    "  if method == \"Stoch_lipchitz\":\n",
    "    L=0\n",
    "    for i in Index_grad : \n",
    "      L += np.matmul(X[i].T, X[i])\n",
    "    alpha = a/((np.linalg.norm(L)/len(Index_grad))+lam)\n",
    "  w = w_k - alpha * d\n",
    "  return w\n",
    "\n",
    "\n",
    "def stoch_new(fonc, w_0, w_star, eps, CardS, CardSh, X, y, method = \"constant\", teta = 0, c = 0, a=0, lam = 0):\n",
    "  w_k = w_0\n",
    "  val = fonc()\n",
    "  delta = 1\n",
    "  D = []\n",
    "  grad = 1\n",
    "  while (grad > eps):\n",
    "    Index_grad = np.random.randint(0, X.shape[0], CardS)\n",
    "    Index_sec = np.random.randint(0, X.shape[0], CardSh)\n",
    "    w_k = stoch_new_ite(X,y, Index_grad, val, val.stoch_grad(lam, w_k, Index_grad, X,y), val.stoch_second(lam, w_k, Index_sec, X,y), w_k , method, c ,teta, a, lam)\n",
    "    delta = np.linalg.norm(w_k - w_star)\n",
    "    #print(\"delta\", delta, \"grad\", np.linalg.norm(val.stoch_grad(lam, w_k, Index_grad, X,y)),w_k)\n",
    "    grad = np.linalg.norm(val.stoch_grad(lam, w_k, Index_grad, X,y))\n",
    "    D.append(delta)\n",
    "  return w_k, D"
   ]
  },
  {
   "cell_type": "code",
   "execution_count": null,
   "metadata": {
    "id": "bic1ln2-aTJk"
   },
   "outputs": [],
   "source": [
    "def simu_linmodel(w, n, std=1., corr=0.5): \n",
    "    d = w.shape[0]\n",
    "    cov = toeplitz(corr ** np.arange(0, d))\n",
    "    X = multivariate_normal(np.zeros(d), cov, size=n)\n",
    "    noise = std * randn(n)\n",
    "    y = X.dot(w) + noise\n",
    "    return X, y\n",
    "\n",
    "\n",
    "w_true = np.array([10.0, 0.0])\n",
    "X,y = simu_linmodel(w_true, 20000, std=2., corr=0.5)\n",
    "y = np.sign(y)\n",
    "\n",
    "w_0_origin = np.zeros(2)\n",
    "w_0_1 = np.array([-1.2,1])\n",
    "\n"
   ]
  },
  {
   "cell_type": "code",
   "execution_count": null,
   "metadata": {
    "id": "iM4KjsXOOfrU"
   },
   "outputs": [],
   "source": [
    "#sol_1 , D_1 = stoch_new(f, w_0_1, w_true, 0.01,  1, 1, X,y, method=\"constant\", a=0.01, lam=0.5) #converge pas avec un batch_size de 1\n",
    "sol_20 , D_20 = stoch_new(f, w_0_1, w_true, 0.1,  20, 20, X,y, method=\"constant\", a=0.01, lam=0.5)\n",
    "D_20_val = [D_20[i] for i in np.arange(0, len(D_20), 1000)]\n",
    "sol_200 , D_200 = stoch_new(f, w_0_1, w_true, 0.1,  200, 200, X,y, method=\"constant\", a=0.01, lam=0.5)\n",
    "D_200_val = [D_200[i] for i in np.arange(0, len(D_200), 100)]\n",
    "sol_2000 , D_2000 = stoch_new(f, w_0_1, w_true, 0.1,  2000, 2000, X,y, method=\"constant\", a=0.01, lam=0.5)\n",
    "D_2000_val = [D_2000[i] for i in np.arange(0, len(D_2000), 10)]\n",
    "sol_20000 , D_20000= stoch_new(f, w_0_1, w_true, 0.1,  20000, 20000, X,y, method=\"constant\", a=0.01, lam=0.5)"
   ]
  },
  {
   "cell_type": "code",
   "execution_count": null,
   "metadata": {
    "colab": {
     "base_uri": "https://localhost:8080/",
     "height": 408
    },
    "id": "OC8U8Uwxi1v2",
    "outputId": "c77b3d9c-9ef0-40db-81aa-eeaf90a57cf5"
   },
   "outputs": [
    {
     "name": "stdout",
     "output_type": "stream",
     "text": [
      "1 2 15 156\n",
      "74 134 149 156\n"
     ]
    },
    {
     "data": {
      "text/plain": [
       "<matplotlib.legend.Legend at 0x7fed8aba7410>"
      ]
     },
     "execution_count": 106,
     "metadata": {},
     "output_type": "execute_result"
    },
    {
     "data": {
      "image/png": "[encoded data removed]",
      "text/plain": [
       "<Figure size 504x360 with 1 Axes>"
      ]
     },
     "metadata": {
      "needs_background": "light"
     },
     "output_type": "display_data"
    }
   ],
   "source": [
    "print(len(D_20_val), len(D_200_val), len(D_2000_val), len(D_20000))\n",
    "print(len(D_20), len(D_200), len(D_2000), len(D_20000))\n",
    "\n",
    "# In terms of objective value (logarithmic scale)\n",
    "plt.figure(figsize=(7, 5))\n",
    "plt.semilogy(D_20_val, label=\"BS = 20\", lw=2)\n",
    "plt.semilogy(D_200_val, label=\"BS = 200\", lw=2)\n",
    "plt.semilogy(D_2000_val, label=\"BS = 2000\", lw=2)\n",
    "plt.semilogy(D_20000, label=\"BS = 20000\", lw=2)\n",
    "plt.title(\"Convergence plot\", fontsize=16)\n",
    "plt.xlabel(\"#epochs\", fontsize=14)\n",
    "plt.ylabel(\"Objective (log scale)\", fontsize=14)\n",
    "plt.legend()"
   ]
  },
  {
   "cell_type": "code",
   "execution_count": null,
   "metadata": {
    "id": "ExsTLxv_n1zj"
   },
   "outputs": [],
   "source": [
    "#batch_size = 200 \n",
    "L = np.linalg.norm(np.matmul(X.T, X))/X.shape[0] + 0.5\n",
    "sol , D = stoch_new(f, w_0_1, w_true, 0.1,  200, 200, X,y, method=\"constant\", a=0.01/L, lam=0.5)\n",
    "sol2 , D2 = stoch_new(f, w_0_1, w_true, 0.1,  200, 200, X,y, method=\"Stoch_lipchitz\", a=0.01, lam=0.5)\n",
    "sol3 , D3 = stoch_new(f, w_0_1, w_true, 0.1,  200, 200, X,y, method=\"constant\", a=0.05/L, lam=0.5)\n",
    "sol4 , D4 = stoch_new(f, w_0_1, w_true, 0.1,  200, 200, X,y, method=\"Stoch_lipchitz\", a=0.05, lam=0.5)\n",
    "sol5 , D5 = stoch_new(f, w_0_1, w_true, 0.1,  200, 200, X,y, method=\"constant\", a=0.1/L, lam=0.5)\n",
    "sol6 , D6 = stoch_new(f, w_0_1, w_true, 0.1,  200, 200, X,y, method=\"Stoch_lipchitz\", a=0.1, lam=0.5)"
   ]
  },
  {
   "cell_type": "code",
   "execution_count": null,
   "metadata": {
    "colab": {
     "base_uri": "https://localhost:8080/",
     "height": 373
    },
    "id": "ieq8S1XPq76Q",
    "outputId": "c80259bc-d45c-4a99-bb90-9a6779639254"
   },
   "outputs": [
    {
     "data": {
      "text/plain": [
       "<matplotlib.legend.Legend at 0x7fed8b60b290>"
      ]
     },
     "execution_count": 121,
     "metadata": {},
     "output_type": "execute_result"
    },
    {
     "data": {
      "image/png": "[encoded data removed]",
      "text/plain": [
       "<Figure size 504x360 with 1 Axes>"
      ]
     },
     "metadata": {
      "needs_background": "light"
     },
     "output_type": "display_data"
    }
   ],
   "source": [
    "plt.figure(figsize=(7, 5))\n",
    "plt.semilogy(D, label=\"alpha = 0.01/L\", lw=2)\n",
    "plt.semilogy(D2, label=\"alpha = 0.01/L_Sk\", lw=2)\n",
    "plt.semilogy(D3, label=\"alpha = 0.05/L\", lw=2)\n",
    "plt.semilogy(D4, label=\"alpha = 0.05/L_Sk\", lw=2)\n",
    "plt.semilogy(D5, label=\"alpha = 0.1/L\", lw=2)\n",
    "plt.semilogy(D6, label=\"alpha = 0.1/L_Sk\", lw=2)\n",
    "plt.title(\"Convergence plot\", fontsize=16)\n",
    "plt.xlabel(\"#epochs\", fontsize=14)\n",
    "plt.ylabel(\"Objective (log scale)\", fontsize=14)\n",
    "plt.legend()"
   ]
  },
  {
   "cell_type": "code",
   "execution_count": null,
   "metadata": {
    "id": "XGQM0qlOX2Fu"
   },
   "outputs": [],
   "source": [
    "def BFGS_ite_stoch(f, grad, H, w_k, c, teta, lam, X,y, Index_grad):\n",
    "  inv = np.linalg.inv(H)\n",
    "  d = np.dot(inv, grad)\n",
    "  d = d.reshape((d.shape[0],))\n",
    "\n",
    "  alpha = get_alpha_Armijo_stoch(teta, f, w_k, c, d, lam, X,y, Index_grad)\n",
    "\n",
    "  s = np.dot(H, grad)\n",
    "  s = s.reshape((s.shape[0],))\n",
    "\n",
    "  w = w_k -  alpha*s\n",
    "  s_k = w - w_k\n",
    "  v_k = f.stoch_grad(lam, w, Index_grad, X,y) - grad\n",
    "  \n",
    "  if np.dot(s_k, v_k)>0:\n",
    "    v_k = v_k.reshape((w.shape[0],1))\n",
    "    s_k = s_k.reshape((1,w.shape[0]))\n",
    "    l = np.eye(grad.shape[0])- (np.matmul(v_k,s_k))/np.dot(s_k, v_k)[0,0]\n",
    "    H = l.T @ H @ l + (s_k.T @ s_k)/np.dot(s_k, v_k)[0,0]\n",
    "  return w, H\n",
    "\n",
    "\n",
    "def BFGS_stoch(fonc, w_0, w_star, eps, CardS, X,y, c, teta, lam):\n",
    "  w_k = w_0\n",
    "  val = fonc()\n",
    "  grad =1  \n",
    "  D = []\n",
    "  H = np.eye(w_0.shape[0])\n",
    "  while (grad > eps):\n",
    "    Index_grad = np.random.randint(0, len(y), CardS)\n",
    "    w_k, H = BFGS_ite_stoch(val, val.stoch_grad(lam, w_k, Index_grad, X,y), H ,w_k ,c ,teta, lam, X,y, Index_grad)\n",
    "    delta = np.linalg.norm(w_k - w_star)\n",
    "    #print(\"delta =\", delta, \"grad\", np.linalg.norm(val.stoch_grad(lam, w_k, Index_grad, X,y)), \"w=\", w_k)\n",
    "    grad = np.linalg.norm(val.stoch_grad(lam, w_k, Index_grad, X,y))\n",
    "    D.append(delta)\n",
    "    #print(grad)\n",
    "  return w_k, D\n"
   ]
  },
  {
   "cell_type": "code",
   "execution_count": null,
   "metadata": {
    "colab": {
     "base_uri": "https://localhost:8080/"
    },
    "id": "ej91fAD3-Rqt",
    "outputId": "54c98d4e-31fe-4d72-b0b9-fdb837d33a3b"
   },
   "outputs": [
    {
     "name": "stdout",
     "output_type": "stream",
     "text": [
      "[1.04598444 0.83791242]\n"
     ]
    }
   ],
   "source": [
    "w_true = np.array([1.0, 1.2])\n",
    "X,y = simu_linmodel(w_true, 2000, std=1., corr=0.5)\n",
    "y = np.sign(y)\n",
    "\n",
    "w_0_origin = np.zeros(2)\n",
    "w_0_1 = np.array([-1.2,1])\n",
    "w_0_2 = np.array([0, 1/200 + 10e-12])\n",
    "\n",
    "sol , D = BFGS_stoch(f, w_0_1, w_true, 0.001,  50, X,y, c = 0.001, teta = 0.5, lam=0.1)\n",
    "print(sol)"
   ]
  },
  {
   "cell_type": "code",
   "execution_count": null,
   "metadata": {
    "id": "BvKggkb7sJmY"
   },
   "outputs": [],
   "source": [
    "sol_1 , D_1 = BFGS_stoch(f, w_0_1, w_true, 0.1,  1, X,y, c = 0.001, teta = 0.5, lam=0.1) #converge pas avec un batch_size de 1\n",
    "sol_20 , D_20 = BFGS_stoch(f, w_0_1, w_true, 0.1, 50, X,y, c = 0.001, teta = 0.5, lam=0.1)\n",
    "D_20_val = [D_20[i] for i in np.arange(0, len(D_20), 1000)]\n",
    "sol_200 , D_200 = BFGS_stoch(f, w_0_1, w_true, 0.1,  500, X,y, c = 0.001, teta = 0.5, lam=0.1)\n",
    "D_200_val = [D_200[i] for i in np.arange(0, len(D_200), 100)]\n",
    "sol_2000 , D_2000 = BFGS_stoch(f, w_0_1, w_true, 0.1,  5000, X,y, c = 0.001, teta = 0.5, lam=0.1)\n",
    "D_2000_val = [D_2000[i] for i in np.arange(0, len(D_2000), 10)]\n",
    "sol_20000 , D_20000= BFGS_stoch(f, w_0_1, w_true, 0.1, 20000, X,y, c = 0.001, teta = 0.5, lam=0.1)"
   ]
  },
  {
   "cell_type": "code",
   "execution_count": null,
   "metadata": {
    "id": "RrPIvsZ_UZOl"
   },
   "outputs": [],
   "source": [
    "class g:\n",
    "  def q(self, lam, w, X, y, Index_grad):\n",
    "    v = 0\n",
    "    for i in Index_grad:\n",
    "      s= np.dot(X[i], w)\n",
    "      f_i = (y[i] - 1/(1+np.exp(- s)))**2\n",
    "      v += f_i\n",
    "    return v/len(Index_grad)\n",
    "\n",
    "  def stoch_grad_i(self, i, lam, w, X, y):\n",
    "    s = np.dot(X[i], w).reshape((1,))\n",
    "    grad = - (2*np.exp(s)*(np.exp(s)*(y[i]-1) + y[i]))/(1+np.exp(s))**3 * X[i]\n",
    "    return grad.T\n",
    "\n",
    "  def stoch_second_i(self, i, lam, w, X, y): \n",
    "    s = X[i].reshape((1,X[i].shape[1]))\n",
    "    d = np.dot(X[i], w).reshape((1,))\n",
    "    Hess = float((2*np.exp(d)*(np.exp(2*d)*(y[i]-1) + 2*np.exp(d) - y[i])/(1+np.exp(d))**4))  * np.matmul(X[i].reshape((X[i].shape[1],1)),s)\n",
    "    return Hess\n",
    "\n",
    "  def stoch_grad(self, lam, w, Index_grad, X,y):\n",
    "      f_i_grad = [self.stoch_grad_i(i, lam, w, X,y) for i in Index_grad]\n",
    "      return np.mean(f_i_grad, axis = 0)\n",
    "\n",
    "  def stoch_second(self, lam, w, Index_sec, X,y):\n",
    "      f_i_sec = [self.stoch_second_i(i, lam, w ,X,y) for i in Index_sec]\n",
    "      return np.mean(f_i_sec, axis = 0)"
   ]
  },
  {
   "cell_type": "code",
   "execution_count": null,
   "metadata": {
    "colab": {
     "base_uri": "https://localhost:8080/"
    },
    "id": "OBZ7c3DiBUKf",
    "outputId": "7a529e9e-7017-4c65-8446-5abcd98306c9"
   },
   "outputs": [
    {
     "name": "stdout",
     "output_type": "stream",
     "text": [
      "21.0\n"
     ]
    }
   ],
   "source": [
    "import sklearn.datasets\n",
    "from sklearn.linear_model import LogisticRegression\n",
    "\n",
    "data = sklearn.datasets.load_svmlight_file(\"mushrooms.txt\")\n",
    "X,y = data[0], data[1]\n",
    "#print(np.sum(data[0][1,:]))\n",
    "clf = LogisticRegression(random_state=0).fit(X, y)\n",
    "w_true = clf.coef_\n"
   ]
  },
  {
   "cell_type": "code",
   "execution_count": null,
   "metadata": {
    "colab": {
     "base_uri": "https://localhost:8080/",
     "height": 415
    },
    "id": "_SP2NlUFBtsm",
    "outputId": "1704ca25-8618-4bc0-ff8c-e2b18e423eb9"
   },
   "outputs": [
    {
     "ename": "LinAlgError",
     "evalue": "ignored",
     "output_type": "error",
     "traceback": [
      "\u001b[0;31m---------------------------------------------------------------------------\u001b[0m",
      "\u001b[0;31mLinAlgError\u001b[0m                               Traceback (most recent call last)",
      "\u001b[0;32m<ipython-input-44-929ed0863e40>\u001b[0m in \u001b[0;36m<module>\u001b[0;34m()\u001b[0m\n\u001b[1;32m      1\u001b[0m \u001b[0mw_0_1\u001b[0m \u001b[0;34m=\u001b[0m \u001b[0mnp\u001b[0m\u001b[0;34m.\u001b[0m\u001b[0mrandom\u001b[0m\u001b[0;34m.\u001b[0m\u001b[0mnormal\u001b[0m\u001b[0;34m(\u001b[0m\u001b[0msize\u001b[0m \u001b[0;34m=\u001b[0m \u001b[0;36m112\u001b[0m\u001b[0;34m)\u001b[0m\u001b[0;34m\u001b[0m\u001b[0;34m\u001b[0m\u001b[0m\n\u001b[0;32m----> 2\u001b[0;31m \u001b[0msol_200\u001b[0m \u001b[0;34m,\u001b[0m \u001b[0mD_200\u001b[0m \u001b[0;34m=\u001b[0m \u001b[0mstoch_new\u001b[0m\u001b[0;34m(\u001b[0m\u001b[0mg\u001b[0m\u001b[0;34m,\u001b[0m \u001b[0mw_0_1\u001b[0m\u001b[0;34m,\u001b[0m \u001b[0mw_true\u001b[0m\u001b[0;34m,\u001b[0m \u001b[0;36m0.1\u001b[0m\u001b[0;34m,\u001b[0m  \u001b[0;36m200\u001b[0m\u001b[0;34m,\u001b[0m \u001b[0;36m200\u001b[0m\u001b[0;34m,\u001b[0m \u001b[0mX\u001b[0m\u001b[0;34m,\u001b[0m\u001b[0my\u001b[0m\u001b[0;34m,\u001b[0m \u001b[0mmethod\u001b[0m\u001b[0;34m=\u001b[0m\u001b[0;34m\"constant\"\u001b[0m\u001b[0;34m,\u001b[0m \u001b[0ma\u001b[0m\u001b[0;34m=\u001b[0m\u001b[0;36m0.01\u001b[0m\u001b[0;34m,\u001b[0m \u001b[0mlam\u001b[0m\u001b[0;34m=\u001b[0m\u001b[0;36m0.5\u001b[0m\u001b[0;34m)\u001b[0m\u001b[0;34m\u001b[0m\u001b[0;34m\u001b[0m\u001b[0m\n\u001b[0m\u001b[1;32m      3\u001b[0m \u001b[0mD_200_val\u001b[0m \u001b[0;34m=\u001b[0m \u001b[0;34m[\u001b[0m\u001b[0mD_200\u001b[0m\u001b[0;34m[\u001b[0m\u001b[0mi\u001b[0m\u001b[0;34m]\u001b[0m \u001b[0;32mfor\u001b[0m \u001b[0mi\u001b[0m \u001b[0;32min\u001b[0m \u001b[0mnp\u001b[0m\u001b[0;34m.\u001b[0m\u001b[0marange\u001b[0m\u001b[0;34m(\u001b[0m\u001b[0;36m0\u001b[0m\u001b[0;34m,\u001b[0m \u001b[0mlen\u001b[0m\u001b[0;34m(\u001b[0m\u001b[0mD_200\u001b[0m\u001b[0;34m)\u001b[0m\u001b[0;34m,\u001b[0m \u001b[0;36m100\u001b[0m\u001b[0;34m)\u001b[0m\u001b[0;34m]\u001b[0m\u001b[0;34m\u001b[0m\u001b[0;34m\u001b[0m\u001b[0m\n\u001b[1;32m      4\u001b[0m \u001b[0msol_20000\u001b[0m \u001b[0;34m,\u001b[0m \u001b[0mD_20000\u001b[0m\u001b[0;34m=\u001b[0m \u001b[0mstoch_new\u001b[0m\u001b[0;34m(\u001b[0m\u001b[0mg\u001b[0m\u001b[0;34m,\u001b[0m \u001b[0mw_0_1\u001b[0m\u001b[0;34m,\u001b[0m \u001b[0mw_true\u001b[0m\u001b[0;34m,\u001b[0m \u001b[0;36m0.1\u001b[0m\u001b[0;34m,\u001b[0m  \u001b[0;36m20000\u001b[0m\u001b[0;34m,\u001b[0m \u001b[0;36m20000\u001b[0m\u001b[0;34m,\u001b[0m \u001b[0mX\u001b[0m\u001b[0;34m,\u001b[0m\u001b[0my\u001b[0m\u001b[0;34m,\u001b[0m \u001b[0mmethod\u001b[0m\u001b[0;34m=\u001b[0m\u001b[0;34m\"constant\"\u001b[0m\u001b[0;34m,\u001b[0m \u001b[0ma\u001b[0m\u001b[0;34m=\u001b[0m\u001b[0;36m0.01\u001b[0m\u001b[0;34m,\u001b[0m \u001b[0mlam\u001b[0m\u001b[0;34m=\u001b[0m\u001b[0;36m0.5\u001b[0m\u001b[0;34m)\u001b[0m\u001b[0;34m\u001b[0m\u001b[0;34m\u001b[0m\u001b[0m\n",
      "\u001b[0;32m<ipython-input-25-e7137ad7f9c6>\u001b[0m in \u001b[0;36mstoch_new\u001b[0;34m(fonc, w_0, w_star, eps, CardS, CardSh, X, y, method, teta, c, a, lam)\u001b[0m\n\u001b[1;32m     34\u001b[0m     \u001b[0mIndex_grad\u001b[0m \u001b[0;34m=\u001b[0m \u001b[0mnp\u001b[0m\u001b[0;34m.\u001b[0m\u001b[0mrandom\u001b[0m\u001b[0;34m.\u001b[0m\u001b[0mrandint\u001b[0m\u001b[0;34m(\u001b[0m\u001b[0;36m0\u001b[0m\u001b[0;34m,\u001b[0m \u001b[0mX\u001b[0m\u001b[0;34m.\u001b[0m\u001b[0mshape\u001b[0m\u001b[0;34m[\u001b[0m\u001b[0;36m0\u001b[0m\u001b[0;34m]\u001b[0m\u001b[0;34m,\u001b[0m \u001b[0mCardS\u001b[0m\u001b[0;34m)\u001b[0m\u001b[0;34m\u001b[0m\u001b[0;34m\u001b[0m\u001b[0m\n\u001b[1;32m     35\u001b[0m     \u001b[0mIndex_sec\u001b[0m \u001b[0;34m=\u001b[0m \u001b[0mnp\u001b[0m\u001b[0;34m.\u001b[0m\u001b[0mrandom\u001b[0m\u001b[0;34m.\u001b[0m\u001b[0mrandint\u001b[0m\u001b[0;34m(\u001b[0m\u001b[0;36m0\u001b[0m\u001b[0;34m,\u001b[0m \u001b[0mX\u001b[0m\u001b[0;34m.\u001b[0m\u001b[0mshape\u001b[0m\u001b[0;34m[\u001b[0m\u001b[0;36m0\u001b[0m\u001b[0;34m]\u001b[0m\u001b[0;34m,\u001b[0m \u001b[0mCardSh\u001b[0m\u001b[0;34m)\u001b[0m\u001b[0;34m\u001b[0m\u001b[0;34m\u001b[0m\u001b[0m\n\u001b[0;32m---> 36\u001b[0;31m     \u001b[0mw_k\u001b[0m \u001b[0;34m=\u001b[0m \u001b[0mstoch_new_ite\u001b[0m\u001b[0;34m(\u001b[0m\u001b[0mX\u001b[0m\u001b[0;34m,\u001b[0m\u001b[0my\u001b[0m\u001b[0;34m,\u001b[0m \u001b[0mIndex_grad\u001b[0m\u001b[0;34m,\u001b[0m \u001b[0mval\u001b[0m\u001b[0;34m,\u001b[0m \u001b[0mval\u001b[0m\u001b[0;34m.\u001b[0m\u001b[0mstoch_grad\u001b[0m\u001b[0;34m(\u001b[0m\u001b[0mlam\u001b[0m\u001b[0;34m,\u001b[0m \u001b[0mw_k\u001b[0m\u001b[0;34m,\u001b[0m \u001b[0mIndex_grad\u001b[0m\u001b[0;34m,\u001b[0m \u001b[0mX\u001b[0m\u001b[0;34m,\u001b[0m\u001b[0my\u001b[0m\u001b[0;34m)\u001b[0m\u001b[0;34m,\u001b[0m \u001b[0mval\u001b[0m\u001b[0;34m.\u001b[0m\u001b[0mstoch_second\u001b[0m\u001b[0;34m(\u001b[0m\u001b[0mlam\u001b[0m\u001b[0;34m,\u001b[0m \u001b[0mw_k\u001b[0m\u001b[0;34m,\u001b[0m \u001b[0mIndex_sec\u001b[0m\u001b[0;34m,\u001b[0m \u001b[0mX\u001b[0m\u001b[0;34m,\u001b[0m\u001b[0my\u001b[0m\u001b[0;34m)\u001b[0m\u001b[0;34m,\u001b[0m \u001b[0mw_k\u001b[0m \u001b[0;34m,\u001b[0m \u001b[0mmethod\u001b[0m\u001b[0;34m,\u001b[0m \u001b[0mc\u001b[0m \u001b[0;34m,\u001b[0m\u001b[0mteta\u001b[0m\u001b[0;34m,\u001b[0m \u001b[0ma\u001b[0m\u001b[0;34m,\u001b[0m \u001b[0mlam\u001b[0m\u001b[0;34m)\u001b[0m\u001b[0;34m\u001b[0m\u001b[0;34m\u001b[0m\u001b[0m\n\u001b[0m\u001b[1;32m     37\u001b[0m     \u001b[0mdelta\u001b[0m \u001b[0;34m=\u001b[0m \u001b[0mnp\u001b[0m\u001b[0;34m.\u001b[0m\u001b[0mlinalg\u001b[0m\u001b[0;34m.\u001b[0m\u001b[0mnorm\u001b[0m\u001b[0;34m(\u001b[0m\u001b[0mw_k\u001b[0m \u001b[0;34m-\u001b[0m \u001b[0mw_star\u001b[0m\u001b[0;34m)\u001b[0m\u001b[0;34m\u001b[0m\u001b[0;34m\u001b[0m\u001b[0m\n\u001b[1;32m     38\u001b[0m     \u001b[0;31m#print(\"delta\", delta, \"grad\", np.linalg.norm(val.stoch_grad(lam, w_k, Index_grad, X,y)),w_k)\u001b[0m\u001b[0;34m\u001b[0m\u001b[0;34m\u001b[0m\u001b[0;34m\u001b[0m\u001b[0m\n",
      "\u001b[0;32m<ipython-input-25-e7137ad7f9c6>\u001b[0m in \u001b[0;36mstoch_new_ite\u001b[0;34m(X, y, Index_grad, f, grad, second_grad, w_k, method, c, teta, a, lam)\u001b[0m\n\u001b[1;32m      9\u001b[0m \u001b[0;34m\u001b[0m\u001b[0m\n\u001b[1;32m     10\u001b[0m \u001b[0;32mdef\u001b[0m \u001b[0mstoch_new_ite\u001b[0m\u001b[0;34m(\u001b[0m\u001b[0mX\u001b[0m\u001b[0;34m,\u001b[0m \u001b[0my\u001b[0m\u001b[0;34m,\u001b[0m \u001b[0mIndex_grad\u001b[0m\u001b[0;34m,\u001b[0m \u001b[0mf\u001b[0m\u001b[0;34m,\u001b[0m \u001b[0mgrad\u001b[0m\u001b[0;34m,\u001b[0m \u001b[0msecond_grad\u001b[0m\u001b[0;34m,\u001b[0m \u001b[0mw_k\u001b[0m\u001b[0;34m,\u001b[0m \u001b[0mmethod\u001b[0m\u001b[0;34m,\u001b[0m \u001b[0mc\u001b[0m\u001b[0;34m,\u001b[0m \u001b[0mteta\u001b[0m\u001b[0;34m,\u001b[0m \u001b[0ma\u001b[0m\u001b[0;34m,\u001b[0m \u001b[0mlam\u001b[0m\u001b[0;34m)\u001b[0m\u001b[0;34m:\u001b[0m\u001b[0;34m\u001b[0m\u001b[0;34m\u001b[0m\u001b[0m\n\u001b[0;32m---> 11\u001b[0;31m   \u001b[0minv\u001b[0m \u001b[0;34m=\u001b[0m \u001b[0mnp\u001b[0m\u001b[0;34m.\u001b[0m\u001b[0mlinalg\u001b[0m\u001b[0;34m.\u001b[0m\u001b[0minv\u001b[0m\u001b[0;34m(\u001b[0m\u001b[0msecond_grad\u001b[0m\u001b[0;34m)\u001b[0m\u001b[0;34m\u001b[0m\u001b[0;34m\u001b[0m\u001b[0m\n\u001b[0m\u001b[1;32m     12\u001b[0m   \u001b[0md\u001b[0m \u001b[0;34m=\u001b[0m \u001b[0mnp\u001b[0m\u001b[0;34m.\u001b[0m\u001b[0mdot\u001b[0m\u001b[0;34m(\u001b[0m\u001b[0minv\u001b[0m\u001b[0;34m,\u001b[0m \u001b[0mgrad\u001b[0m\u001b[0;34m)\u001b[0m\u001b[0;34m\u001b[0m\u001b[0;34m\u001b[0m\u001b[0m\n\u001b[1;32m     13\u001b[0m   \u001b[0;32mif\u001b[0m \u001b[0mmethod\u001b[0m \u001b[0;34m==\u001b[0m \u001b[0;34m\"armijo\"\u001b[0m\u001b[0;34m:\u001b[0m\u001b[0;34m\u001b[0m\u001b[0;34m\u001b[0m\u001b[0m\n",
      "\u001b[0;32m<__array_function__ internals>\u001b[0m in \u001b[0;36minv\u001b[0;34m(*args, **kwargs)\u001b[0m\n",
      "\u001b[0;32m/usr/local/lib/python3.7/dist-packages/numpy/linalg/linalg.py\u001b[0m in \u001b[0;36minv\u001b[0;34m(a)\u001b[0m\n\u001b[1;32m    544\u001b[0m     \u001b[0msignature\u001b[0m \u001b[0;34m=\u001b[0m \u001b[0;34m'D->D'\u001b[0m \u001b[0;32mif\u001b[0m \u001b[0misComplexType\u001b[0m\u001b[0;34m(\u001b[0m\u001b[0mt\u001b[0m\u001b[0;34m)\u001b[0m \u001b[0;32melse\u001b[0m \u001b[0;34m'd->d'\u001b[0m\u001b[0;34m\u001b[0m\u001b[0;34m\u001b[0m\u001b[0m\n\u001b[1;32m    545\u001b[0m     \u001b[0mextobj\u001b[0m \u001b[0;34m=\u001b[0m \u001b[0mget_linalg_error_extobj\u001b[0m\u001b[0;34m(\u001b[0m\u001b[0m_raise_linalgerror_singular\u001b[0m\u001b[0;34m)\u001b[0m\u001b[0;34m\u001b[0m\u001b[0;34m\u001b[0m\u001b[0m\n\u001b[0;32m--> 546\u001b[0;31m     \u001b[0mainv\u001b[0m \u001b[0;34m=\u001b[0m \u001b[0m_umath_linalg\u001b[0m\u001b[0;34m.\u001b[0m\u001b[0minv\u001b[0m\u001b[0;34m(\u001b[0m\u001b[0ma\u001b[0m\u001b[0;34m,\u001b[0m \u001b[0msignature\u001b[0m\u001b[0;34m=\u001b[0m\u001b[0msignature\u001b[0m\u001b[0;34m,\u001b[0m \u001b[0mextobj\u001b[0m\u001b[0;34m=\u001b[0m\u001b[0mextobj\u001b[0m\u001b[0;34m)\u001b[0m\u001b[0;34m\u001b[0m\u001b[0;34m\u001b[0m\u001b[0m\n\u001b[0m\u001b[1;32m    547\u001b[0m     \u001b[0;32mreturn\u001b[0m \u001b[0mwrap\u001b[0m\u001b[0;34m(\u001b[0m\u001b[0mainv\u001b[0m\u001b[0;34m.\u001b[0m\u001b[0mastype\u001b[0m\u001b[0;34m(\u001b[0m\u001b[0mresult_t\u001b[0m\u001b[0;34m,\u001b[0m \u001b[0mcopy\u001b[0m\u001b[0;34m=\u001b[0m\u001b[0;32mFalse\u001b[0m\u001b[0;34m)\u001b[0m\u001b[0;34m)\u001b[0m\u001b[0;34m\u001b[0m\u001b[0;34m\u001b[0m\u001b[0m\n\u001b[1;32m    548\u001b[0m \u001b[0;34m\u001b[0m\u001b[0m\n",
      "\u001b[0;32m/usr/local/lib/python3.7/dist-packages/numpy/linalg/linalg.py\u001b[0m in \u001b[0;36m_raise_linalgerror_singular\u001b[0;34m(err, flag)\u001b[0m\n\u001b[1;32m     86\u001b[0m \u001b[0;34m\u001b[0m\u001b[0m\n\u001b[1;32m     87\u001b[0m \u001b[0;32mdef\u001b[0m \u001b[0m_raise_linalgerror_singular\u001b[0m\u001b[0;34m(\u001b[0m\u001b[0merr\u001b[0m\u001b[0;34m,\u001b[0m \u001b[0mflag\u001b[0m\u001b[0;34m)\u001b[0m\u001b[0;34m:\u001b[0m\u001b[0;34m\u001b[0m\u001b[0;34m\u001b[0m\u001b[0m\n\u001b[0;32m---> 88\u001b[0;31m     \u001b[0;32mraise\u001b[0m \u001b[0mLinAlgError\u001b[0m\u001b[0;34m(\u001b[0m\u001b[0;34m\"Singular matrix\"\u001b[0m\u001b[0;34m)\u001b[0m\u001b[0;34m\u001b[0m\u001b[0;34m\u001b[0m\u001b[0m\n\u001b[0m\u001b[1;32m     89\u001b[0m \u001b[0;34m\u001b[0m\u001b[0m\n\u001b[1;32m     90\u001b[0m \u001b[0;32mdef\u001b[0m \u001b[0m_raise_linalgerror_nonposdef\u001b[0m\u001b[0;34m(\u001b[0m\u001b[0merr\u001b[0m\u001b[0;34m,\u001b[0m \u001b[0mflag\u001b[0m\u001b[0;34m)\u001b[0m\u001b[0;34m:\u001b[0m\u001b[0;34m\u001b[0m\u001b[0;34m\u001b[0m\u001b[0m\n",
      "\u001b[0;31mLinAlgError\u001b[0m: Singular matrix"
     ]
    }
   ],
   "source": [
    "w_0_1 = np.random.normal(size = 112)\n",
    "sol_200 , D_200 = stoch_new(g, w_0_1, w_true, 0.1,  200, 200, X,y, method=\"constant\", a=0.01, lam=0.5)\n",
    "D_200_val = [D_200[i] for i in np.arange(0, len(D_200), 100)]\n",
    "sol_20000 , D_20000= stoch_new(g, w_0_1, w_true, 0.1,  20000, 20000, X,y, method=\"constant\", a=0.01, lam=0.5)\n",
    "\n",
    "#converge pas ?"
   ]
  }
 ],
 "metadata": {
  "colab": {
   "collapsed_sections": [],
   "name": "ProjetOpti.ipynb",
   "provenance": []
  },
  "kernelspec": {
   "display_name": "Python 3 (ipykernel)",
   "language": "python",
   "name": "python3"
  },
  "language_info": {
   "codemirror_mode": {
    "name": "ipython",
    "version": 3
   },
   "file_extension": ".py",
   "mimetype": "text/x-python",
   "name": "python",
   "nbconvert_exporter": "python",
   "pygments_lexer": "ipython3",
   "version": "3.8.8"
  }
 },
 "nbformat": 4,
 "nbformat_minor": 1
}
